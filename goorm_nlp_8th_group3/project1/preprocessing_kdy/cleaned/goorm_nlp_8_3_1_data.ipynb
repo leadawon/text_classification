{
  "cells": [
    {
      "cell_type": "code",
      "execution_count": 1,
      "metadata": {
        "id": "7bz2vMApoPnv",
        "colab": {
          "base_uri": "https://localhost:8080/"
        },
        "outputId": "5079efe1-b324-4012-8bd5-c4ab3b044a12"
      },
      "outputs": [
        {
          "output_type": "stream",
          "name": "stdout",
          "text": [
            "Mounted at /content/drive\n"
          ]
        }
      ],
      "source": [
        "from google.colab import drive\n",
        "drive.mount('/content/drive')"
      ]
    },
    {
      "cell_type": "code",
      "execution_count": 2,
      "metadata": {
        "id": "TOAc9QCAprjM"
      },
      "outputs": [],
      "source": [
        "from google.colab import files\n",
        "import pandas as pd\n"
      ]
    },
    {
      "cell_type": "code",
      "execution_count": 3,
      "metadata": {
        "id": "xQGhrEfO9fRE",
        "colab": {
          "base_uri": "https://localhost:8080/"
        },
        "outputId": "2fb30ec6-bced-4c5e-e400-1ae541b756ef"
      },
      "outputs": [
        {
          "output_type": "stream",
          "name": "stderr",
          "text": [
            "[nltk_data] Downloading package punkt to /root/nltk_data...\n",
            "[nltk_data]   Unzipping tokenizers/punkt.zip.\n"
          ]
        },
        {
          "output_type": "execute_result",
          "data": {
            "text/plain": [
              "True"
            ]
          },
          "metadata": {},
          "execution_count": 3
        }
      ],
      "source": [
        "from nltk.tokenize import word_tokenize\n",
        "from nltk.tokenize import WordPunctTokenizer\n",
        "from tensorflow.keras.preprocessing.text import text_to_word_sequence\n",
        "import nltk\n",
        "nltk.download('punkt')"
      ]
    },
    {
      "cell_type": "code",
      "execution_count": 4,
      "metadata": {
        "id": "II1PNlKsBczM"
      },
      "outputs": [],
      "source": [
        "import re"
      ]
    },
    {
      "cell_type": "code",
      "execution_count": null,
      "metadata": {
        "id": "vvNFqbigCIpv"
      },
      "outputs": [],
      "source": [
        "# from nltk.stem import PorterStemmer\n",
        "# from nltk.stem import LancasterStemmer"
      ]
    },
    {
      "cell_type": "code",
      "execution_count": 5,
      "metadata": {
        "id": "Lko7rT2JDtuS"
      },
      "outputs": [],
      "source": [
        "from nltk.corpus import stopwords\n",
        "from nltk.tokenize import word_tokenize \n",
        "# from konlpy.tag import Okt"
      ]
    },
    {
      "cell_type": "code",
      "execution_count": 6,
      "metadata": {
        "id": "BDIP7ICNF85L",
        "colab": {
          "base_uri": "https://localhost:8080/"
        },
        "outputId": "4a44b3b2-e2f8-4b8b-a91e-7631963ada71"
      },
      "outputs": [
        {
          "name": "stdout",
          "output_type": "stream",
          "text": [
            "NLTK Downloader\n",
            "---------------------------------------------------------------------------\n",
            "    d) Download   l) List    u) Update   c) Config   h) Help   q) Quit\n",
            "---------------------------------------------------------------------------\n",
            "Downloader> q\n"
          ]
        },
        {
          "output_type": "execute_result",
          "data": {
            "text/plain": [
              "True"
            ]
          },
          "metadata": {},
          "execution_count": 6
        }
      ],
      "source": [
        "import nltk\n",
        "nltk.download()"
      ]
    },
    {
      "cell_type": "code",
      "execution_count": null,
      "metadata": {
        "id": "d_4pnDyb454C"
      },
      "outputs": [],
      "source": [
        "# f = open(\"/content/drive/MyDrive/goorm_nlp_8_3/input/copy-of-6th-goorm-project-1-text-classification/sentiment_dev_0.txt\", 'r')\n",
        "# text = f.read() \n",
        "\n",
        "# # 정제, 정규화\n",
        "# shortword = re.compile(r'\\W*\\b\\w{1,2}\\b')\n",
        "# text2 = shortword.sub('', text)\n",
        "\n",
        "# # 토큰화\n",
        "# wordList = word_tokenize(text2)\n",
        "# sentiment_dev_0_wordCount = {} \n",
        " \n",
        "# # # 어간, 표제어 추출\n",
        "# # porter_stemmer = PorterStemmer()\n",
        "# # lancaster_stemmer = LancasterStemmer()\n",
        "\n",
        "# # wordList = [porter_stemmer.stem(w) for w in wordList]\n",
        "\n",
        "# # # 불용어\n",
        "# # # example = \"Family is not an important thing. It's everything.\"\n",
        "# # stop_words = set(stopwords.words('english')) \n",
        "\n",
        "# # word_tokens = word_tokenize(wordList)\n",
        "\n",
        "# # result = []\n",
        "# # for word in word_tokens: \n",
        "# #     if word not in stop_words: \n",
        "# #         result.append(word) \n",
        "\n",
        "# # wordList = result\n",
        "\n",
        "# # 개수 확인\n",
        "# for word in wordList:\n",
        " \n",
        "#     # Get 명령어를 통해, Dictionary에 Key가 없으면 0리턴\n",
        " \n",
        "#     sentiment_dev_0_wordCount[word] = sentiment_dev_0_wordCount.get(word, 0) + 1 \n",
        "    \n",
        "#     keys = sorted(sentiment_dev_0_wordCount.keys())\n",
        "\n",
        "# sentiment_dev_0_wordCount2 = sorted(sentiment_dev_0_wordCount.items(), key=lambda x: x[1], reverse=True)\n",
        "# print(sentiment_dev_0_wordCount2)\n",
        "\n",
        "# f.close()"
      ]
    },
    {
      "cell_type": "code",
      "execution_count": null,
      "metadata": {
        "id": "Yux3M3aW-O6c"
      },
      "outputs": [],
      "source": [
        "# print(text[:100])"
      ]
    },
    {
      "cell_type": "code",
      "execution_count": null,
      "metadata": {
        "id": "scT42zr1E9S3"
      },
      "outputs": [],
      "source": [
        "# print(text2[:100])"
      ]
    },
    {
      "cell_type": "code",
      "execution_count": null,
      "metadata": {
        "id": "KbOC-xnf-Q9Q"
      },
      "outputs": [],
      "source": [
        "# print(wordList[:10])"
      ]
    },
    {
      "cell_type": "markdown",
      "metadata": {
        "id": "F48TvWMMFI0F"
      },
      "source": [
        "---"
      ]
    },
    {
      "cell_type": "code",
      "execution_count": null,
      "metadata": {
        "id": "DIRK0bOM8D_q"
      },
      "outputs": [],
      "source": [
        "# f = open(\"/content/drive/MyDrive/goorm_nlp_8_3/input/copy-of-6th-goorm-project-1-text-classification/sentiment_dev_1.txt\", 'r')\n",
        "# text = f.read() \n",
        "\n",
        "# # 정제, 정규화\n",
        "# shortword = re.compile(r'\\W*\\b\\w{1,2}\\b')\n",
        "# text2 = shortword.sub('', text)\n",
        "\n",
        "# # 토큰화\n",
        "# wordList = word_tokenize(text2)\n",
        "# sentiment_dev_1_wordCount = {} \n",
        " \n",
        "# # 개수 확인\n",
        "# for word in wordList:\n",
        " \n",
        "#     # Get 명령어를 통해, Dictionary에 Key가 없으면 0리턴\n",
        " \n",
        "#     sentiment_dev_1_wordCount[word] = sentiment_dev_1_wordCount.get(word, 0) + 1 \n",
        "    \n",
        "#     keys = sorted(sentiment_dev_1_wordCount.keys())\n",
        "\n",
        "# sentiment_dev_1_wordCount2 = sorted(sentiment_dev_1_wordCount.items(), key=lambda x: x[1], reverse=True)\n",
        "# print(sentiment_dev_1_wordCount2)\n",
        "\n",
        "# f.close()"
      ]
    },
    {
      "cell_type": "code",
      "execution_count": null,
      "metadata": {
        "id": "kpgrqUL6Gmuy",
        "colab": {
          "base_uri": "https://localhost:8080/",
          "height": 248
        },
        "outputId": "e95f2130-d911-4f23-eced-f7e013e789cb"
      },
      "outputs": [
        {
          "output_type": "error",
          "ename": "KeyboardInterrupt",
          "evalue": "ignored",
          "traceback": [
            "\u001b[0;31m---------------------------------------------------------------------------\u001b[0m",
            "\u001b[0;31mKeyboardInterrupt\u001b[0m                         Traceback (most recent call last)",
            "\u001b[0;32m<ipython-input-13-14495e2ec9fd>\u001b[0m in \u001b[0;36m<module>\u001b[0;34m\u001b[0m\n\u001b[1;32m     17\u001b[0m     \u001b[0msentiment_train_0_wordCount\u001b[0m\u001b[0;34m[\u001b[0m\u001b[0mword\u001b[0m\u001b[0;34m]\u001b[0m \u001b[0;34m=\u001b[0m \u001b[0msentiment_train_0_wordCount\u001b[0m\u001b[0;34m.\u001b[0m\u001b[0mget\u001b[0m\u001b[0;34m(\u001b[0m\u001b[0mword\u001b[0m\u001b[0;34m,\u001b[0m \u001b[0;36m0\u001b[0m\u001b[0;34m)\u001b[0m \u001b[0;34m+\u001b[0m \u001b[0;36m1\u001b[0m\u001b[0;34m\u001b[0m\u001b[0;34m\u001b[0m\u001b[0m\n\u001b[1;32m     18\u001b[0m \u001b[0;34m\u001b[0m\u001b[0m\n\u001b[0;32m---> 19\u001b[0;31m     \u001b[0mkeys\u001b[0m \u001b[0;34m=\u001b[0m \u001b[0msorted\u001b[0m\u001b[0;34m(\u001b[0m\u001b[0msentiment_train_0_wordCount\u001b[0m\u001b[0;34m.\u001b[0m\u001b[0mkeys\u001b[0m\u001b[0;34m(\u001b[0m\u001b[0;34m)\u001b[0m\u001b[0;34m)\u001b[0m\u001b[0;34m\u001b[0m\u001b[0;34m\u001b[0m\u001b[0m\n\u001b[0m\u001b[1;32m     20\u001b[0m \u001b[0;34m\u001b[0m\u001b[0m\n\u001b[1;32m     21\u001b[0m \u001b[0msentiment_train_0_wordCount2\u001b[0m \u001b[0;34m=\u001b[0m \u001b[0msorted\u001b[0m\u001b[0;34m(\u001b[0m\u001b[0msentiment_train_0_wordCount\u001b[0m\u001b[0;34m.\u001b[0m\u001b[0mitems\u001b[0m\u001b[0;34m(\u001b[0m\u001b[0;34m)\u001b[0m\u001b[0;34m,\u001b[0m \u001b[0mkey\u001b[0m\u001b[0;34m=\u001b[0m\u001b[0;32mlambda\u001b[0m \u001b[0mx\u001b[0m\u001b[0;34m:\u001b[0m \u001b[0mx\u001b[0m\u001b[0;34m[\u001b[0m\u001b[0;36m1\u001b[0m\u001b[0;34m]\u001b[0m\u001b[0;34m,\u001b[0m \u001b[0mreverse\u001b[0m\u001b[0;34m=\u001b[0m\u001b[0;32mTrue\u001b[0m\u001b[0;34m)\u001b[0m\u001b[0;34m\u001b[0m\u001b[0;34m\u001b[0m\u001b[0m\n",
            "\u001b[0;31mKeyboardInterrupt\u001b[0m: "
          ]
        }
      ],
      "source": [
        "# f = open(\"/content/drive/MyDrive/goorm_nlp_8_3/input/copy-of-6th-goorm-project-1-text-classification/sentiment_train_0.txt\", 'r')\n",
        "# text = f.read() \n",
        "\n",
        "# # 정제, 정규화\n",
        "# shortword = re.compile(r'\\W*\\b\\w{1,2}\\b')\n",
        "# text2 = shortword.sub('', text)\n",
        "\n",
        "# # 토큰화\n",
        "# wordList = word_tokenize(text2)\n",
        "# sentiment_train_0_wordCount = {} \n",
        " \n",
        "# # 개수 확인\n",
        "# for word in wordList:\n",
        " \n",
        "#     # Get 명령어를 통해, Dictionary에 Key가 없으면 0리턴\n",
        " \n",
        "#     sentiment_train_0_wordCount[word] = sentiment_train_0_wordCount.get(word, 0) + 1 \n",
        "    \n",
        "#     keys = sorted(sentiment_train_0_wordCount.keys())\n",
        "    \n",
        "# sentiment_train_0_wordCount2 = sorted(sentiment_train_0_wordCount.items(), key=lambda x: x[1], reverse=True)\n",
        "# print(sentiment_train_0_wordCount2)\n",
        "\n",
        "# f.close()"
      ]
    },
    {
      "cell_type": "code",
      "execution_count": null,
      "metadata": {
        "id": "M13CXMXJUBlm"
      },
      "outputs": [],
      "source": [
        "# f = open(\"/content/drive/MyDrive/goorm_nlp_8_3/input/copy-of-6th-goorm-project-1-text-classification/sentiment_train_1.txt\", 'r')\n",
        "# text = f.read() \n",
        "\n",
        "# # 정제, 정규화\n",
        "# shortword = re.compile(r'\\W*\\b\\w{1,2}\\b')\n",
        "# text2 = shortword.sub('', text)\n",
        "\n",
        "# # 토큰화\n",
        "# wordList = word_tokenize(text2)\n",
        "# sentiment_train_1_wordCount = {} \n",
        " \n",
        "# # 개수 확인\n",
        "# for word in wordList:\n",
        " \n",
        "#     # Get 명령어를 통해, Dictionary에 Key가 없으면 0리턴\n",
        " \n",
        "#     sentiment_train_1_wordCount[word] = sentiment_train_1_wordCount.get(word, 0) + 1 \n",
        "    \n",
        "#     keys = sorted(sentiment_train_1_wordCount.keys())\n",
        "\n",
        "# sentiment_train_1_wordCount2 = sorted(sentiment_train_1_wordCount.items(), key=lambda x: x[1], reverse=True)\n",
        "# print(sentiment_train_1_wordCount2)\n",
        "\n",
        "# f.close()"
      ]
    },
    {
      "cell_type": "code",
      "execution_count": 7,
      "metadata": {
        "id": "C_Dr8DWNUOXC"
      },
      "outputs": [],
      "source": [
        "import csv"
      ]
    },
    {
      "cell_type": "code",
      "execution_count": null,
      "metadata": {
        "id": "VNozG53tTRlo"
      },
      "outputs": [],
      "source": [
        "# item = sentiment_dev_0_wordCount2\n",
        "# with open('sentiment_dev_0.csv','w',newline='') as f:\n",
        "#   writer = csv.writer(f)\n",
        "#   writer.writerow(item)"
      ]
    },
    {
      "cell_type": "code",
      "execution_count": null,
      "metadata": {
        "id": "Ty2al8YFTUOM"
      },
      "outputs": [],
      "source": [
        "# item = sentiment_dev_1_wordCount2\n",
        "# with open('sentiment_dev_1.csv','w',newline='') as f:\n",
        "#   writer = csv.writer(f)\n",
        "#   writer.writerow(item)"
      ]
    },
    {
      "cell_type": "code",
      "execution_count": null,
      "metadata": {
        "id": "uTFPA-TETh5O"
      },
      "outputs": [],
      "source": [
        "# item = sentiment_train_0_wordCount2\n",
        "# with open('sentiment_train_0.csv','w',newline='') as f:\n",
        "#   writer = csv.writer(f)\n",
        "#   writer.writerow(item)"
      ]
    },
    {
      "cell_type": "code",
      "execution_count": null,
      "metadata": {
        "id": "gFzODXkGTk7u"
      },
      "outputs": [],
      "source": [
        "# item = sentiment_train_1_wordCount2\n",
        "# with open('sentiment_train_1.csv','w',newline='') as f:\n",
        "#   writer = csv.writer(f)\n",
        "#   writer.writerow(item)"
      ]
    },
    {
      "cell_type": "markdown",
      "source": [
        "---"
      ],
      "metadata": {
        "id": "RgTa9esjhVR_"
      }
    },
    {
      "cell_type": "code",
      "source": [
        "f = open(\"/content/drive/MyDrive/goorm_nlp_8_3/input/copy-of-6th-goorm-project-1-text-classification/sentiment_dev_1.txt\", 'r')\n",
        "shortword = re.compile(r'\\W*\\b\\w{1,2}\\b')\n",
        "f2 = open(\"sentiment_dev_1_c.txt\", 'w')\n",
        "while True:\n",
        "  text = f.readline()\n",
        "  data = shortword.sub('', text)\n",
        "  f2.write(data)\n",
        "# text = f.read() \n",
        "    \n",
        "  if not text: break\n",
        "  # print(text)\n",
        "# 정제, 정규화\n",
        "# text2 = shortword.sub('', text)\n",
        "f2.close()\n",
        "# 토큰화\n",
        "# wordList = word_tokenize(text2)\n",
        "\n",
        "# print(data)\n",
        "f.close()"
      ],
      "metadata": {
        "id": "2uC0oe_chW9w"
      },
      "execution_count": null,
      "outputs": []
    },
    {
      "cell_type": "code",
      "source": [
        "f = open(\"/content/drive/MyDrive/goorm_nlp_8_3/input/copy-of-6th-goorm-project-1-text-classification/sentiment_dev_0.txt\", 'r')\n",
        "shortword = re.compile(r'\\W*\\b\\w{1,2}\\b')\n",
        "f2 = open(\"sentiment_dev_0_c.txt\", 'w')\n",
        "while True:\n",
        "  text = f.readline()\n",
        "  data = shortword.sub('', text)\n",
        "  f2.write(data)\n",
        "# text = f.read() \n",
        "    \n",
        "  if not text: break\n",
        "  # print(text)\n",
        "# 정제, 정규화\n",
        "# text2 = shortword.sub('', text)\n",
        "f2.close()\n",
        "# 토큰화\n",
        "# wordList = word_tokenize(text2)\n",
        "\n",
        "# print(data)\n",
        "f.close()"
      ],
      "metadata": {
        "id": "5HJrAqSrqqzg"
      },
      "execution_count": 27,
      "outputs": []
    },
    {
      "cell_type": "code",
      "source": [
        "f = open(\"/content/drive/MyDrive/goorm_nlp_8_3/input/copy-of-6th-goorm-project-1-text-classification/sentiment_train_0.txt\", 'r')\n",
        "shortword = re.compile(r'\\W*\\b\\w{1,2}\\b')\n",
        "f2 = open(\"sentiment_train_0_c.txt\", 'w')\n",
        "while True:\n",
        "  text = f.readline()\n",
        "  data = shortword.sub('', text)\n",
        "  f2.write(data)\n",
        "# text = f.read() \n",
        "    \n",
        "  if not text: break\n",
        "  # print(text)\n",
        "# 정제, 정규화\n",
        "# text2 = shortword.sub('', text)\n",
        "f2.close()\n",
        "# 토큰화\n",
        "# wordList = word_tokenize(text2)\n",
        "\n",
        "# print(data)\n",
        "f.close()"
      ],
      "metadata": {
        "id": "i9u5Ikv_qqsn"
      },
      "execution_count": 28,
      "outputs": []
    },
    {
      "cell_type": "code",
      "source": [
        "f = open(\"/content/drive/MyDrive/goorm_nlp_8_3/input/copy-of-6th-goorm-project-1-text-classification/sentiment_train_1.txt\", 'r')\n",
        "shortword = re.compile(r'\\W*\\b\\w{1,2}\\b')\n",
        "f2 = open(\"sentiment_train_1_c.txt\", 'w')\n",
        "while True:\n",
        "  text = f.readline()\n",
        "  data = shortword.sub('', text)\n",
        "  f2.write(data)\n",
        "# text = f.read() \n",
        "    \n",
        "  if not text: break\n",
        "  # print(text)\n",
        "# 정제, 정규화\n",
        "# text2 = shortword.sub('', text)\n",
        "f2.close()\n",
        "# 토큰화\n",
        "# wordList = word_tokenize(text2)\n",
        "\n",
        "# print(data)\n",
        "f.close()"
      ],
      "metadata": {
        "id": "nD2qI4m8qqko"
      },
      "execution_count": 29,
      "outputs": []
    },
    {
      "cell_type": "code",
      "source": [
        "import pandas as pd\n",
        " \n",
        "df = pd.read_csv('/content/drive/MyDrive/goorm_nlp_8_3/input/copy-of-6th-goorm-project-1-text-classification/test_no_label.csv')"
      ],
      "metadata": {
        "id": "LfQV7WS5rFxY"
      },
      "execution_count": 47,
      "outputs": []
    },
    {
      "cell_type": "code",
      "source": [
        "reviews = df['Id']"
      ],
      "metadata": {
        "id": "QD-GM0VQrRJZ"
      },
      "execution_count": 48,
      "outputs": []
    },
    {
      "cell_type": "code",
      "source": [
        "print(list(reviews))"
      ],
      "metadata": {
        "colab": {
          "base_uri": "https://localhost:8080/"
        },
        "id": "QZ_DIUvSrqDg",
        "outputId": "a2bb0bf1-e767-427d-b32d-ed23486244c9"
      },
      "execution_count": 49,
      "outputs": [
        {
          "output_type": "stream",
          "name": "stdout",
          "text": [
            "[\"it 's a whole new experience and new flavors each time you go .\", 'so disappointing from an old favorite .', 'it is the most authentic thai in the valley .', 'do not sign a lease with these people .', 'i was nervous and she made me feel so comfortable and welcome .', 'the only thing we received that was hot was the coffee .', 'no , not the ones at asu , the ones in junior high .', 'they bring it out front for you and are very helpful .', \"plus the dude did n't even know how to work the computer .\", 'they have an excellent selection of combos to choose from .', 'they go above and beyond !', 'at this location the service was terrible .', 'i ordered a cesar salad with a side of blackened chicken .', 'very nice location for weekend volleyball tournaments !', \"one of best veal dishes i 've ever had and reasonable prices .\", 'the food is worse than you find in the freezer section at walmart .', 'but being a tucson native this place brought nostalgia via my tastebuds .', 'fun to watch the kitchen in rush hour .', 'when it came we should have sent it back .', 'needless to say i will not be back for mexican food .', 'stay away , and go to cheesecake instead .', 'i highly recommend the ahi tuna .', 'we both found it overcooked -- and no seasonings .', 'good selection of parts and accessories and reasonable prices .', 'my husband had to walk up to the bar to place our wine order .', \"i 'm still craving my drunken noodles !\", 'everyone that i spoke with was very helpful and kind .', 'all of my clothes are returned in sparkling condition !', \"i hate to see what their delivery times are when it 's last call .\", 'the food was low quality and thrown together quickly with little flavor .', 'moving past the shape , they were dry and truly tasteless .', 'this is an old worn out hotel .', 'the espresso was way too hot .', 'the food was pretty bad , i would not go there again .', 'first , the bartender was an a -- hole .', \"do n't waste the trip .\", \"you wo n't find a better selection in scottsdale .\", 'enjoy taking my family here always the freshest sea food .', 'the rice was cold and hard and the taste was very bland .', 'absolutely terrible , do not order from this place .', 'ambiance and setting were superb .', \"one broken thing after another they do n't care to address .\", 'my wife came in for alterations and was treated quite rudely .', 'absolutely hands down the best dentist office in the east valley !', 'parking : no signs or anything , so you just have to guess .', 'fun place to catch a game on tv and catch up w/ people .', 'i suppose id forgotten how bland their offerings really are .', 'coupon or not , this place is extra nice and a very good value .', 'safe to say we will be going to other walgreens locations from now on .', 'she was so patient , kind and understanding .', 'the wonton was seriously lacking filling .', 'food here is also so good !', 'i was a walk in and got helped right away !', 'food good , a plate went a long way .', 'the grounds are always very clean .', \"this place is a must go if you 're a bride to be !\", 'service fair , pace was bad between courses - long waits .', 'the portions were huge , the food came out hot , fresh and good .', 'i enjoy coming here for lunch to get the slices .', 'when we get into town , this is the first place we come !', 'these two women are professionals .', 'nice selection of games to play .', 'they have delicious soups everyday .', 'this is a rare gem and i am excited to have found it .', 'i was pleased with their service .', 'they also found my apartment which is pretty hard to find .', 'exhibit c : no more student services peeps .', 'they were so helpful , kind , and reasonably priced .', 'had it not been so terribly hot , it would have just been inconvenient .', 'she was spot on as they were delicious .', 'well the food was great and the price of it was even better .', 'the beans were in the burro in the rice was nowhere to be found .', 'awesome and fast service , these guys really know their stuff .', 'nice for me to go and work and have a great breakfast !', 'the food is also very good .', 'avoid if at all possible .', 'the margaritas were also tasted and the churros with ice cream was also outstanding .', 'super friendly staff , quick service and amazing and simple food done right !', 'the sushi here is great and i love the cucumber salad .', 'it was so much not good that i just wanted out of there .', 'the wine list was the best part .', 'but the customer service ruins it all for me .', \"i 've been here several times and every time has been great .\", 'good place for a romantic dinner !', \"it did n't matter of she is good at all other times .\", 'gammage itself however is not so amazing .', 'the green chile mac and cheese was incredible !', 'i do not like the size of the dance floor .', 'i would rather wait for hot food than have it cold and soggy .', 'came here with my family .', 'its quiet and nice people are here .', 'it is also quite expensive for my taste .', 'this place is a shit hole with shit service .', 'had a blast and the food at their restaurant was excellent !', 'most delicious authentic chinese food !', 'it was pretty inexpensive and they played good music videos .', 'my toddler found a dead mouse under one of the seats .', \"we 'll see if that happens , but i 'm not holding my breath .\", 'she was absolutely fantastic and i love what she did !', \"it 's always busy and the restaurant is very dirty .\", 'took my suite to get fitted and a new button put on it .', 'great quality , great service .', 'found the place even though it is hard due to bad signage .', 'the food is always fresh .', 'the lady at the front desk was not very friendly .', 'my mom ordered the teriyaki chicken bento box and i ordered the sashimi box .', 'but their inventory was questionable !', 'food was alright maybe we should have ordered off the mexican menu .', 'what a waste of my time and theirs .', 'food super and well priced .', 'the firecracker shrimp and duck is also always a winner .', 'i looked around and there were still customers .', 'the food here is bland and boring and bad .', \"since their visit , the only scorpions we 've seen were dead !\", \"only now i 'm really hungry , and really pissed off .\", 'the food is good and from what i can tell is rather authentic .', \"sounds good does n't it ?\", \"they wo n't tell you though .\", 'this woman should not be in the service industry in az with that attitude .', 'maybe they were having a bad night ?', 'the charge did include miso soup and a small salad .', 'their small calzone is really gigantic !', 'plenty to eat and amazing flavor .', 'she could not and would not explain herself .', 'the patio is a fun place to sit at 7pm .', 'ate kicked ass , marquee , not so much .', 'overall really good quality food and service .', 'bad service in these areas and really ruined our visit .', 'firstly , their fees are generally higher than other places .', 'anyway , we got our coffee and will not return to this location .', \"and for this reason , i wo n't return .\", 'i highly recommend impact auto body .', 'friendly owners and staff and delicious food !', 'the wait staff is extremely attractive and friendly !', 'the bathroom area is nothing special .', 'unfortunately , the tour guides are not experts .', 'desert followed but nothing special .', 'i loved the ribs more than the chicken .', \"the server was n't buying .\", 'great food but horrible staff and very very rude workers !', 'best take out or eat in sushi !', \"you 'll have zero appetite after the first bite .\", 'nice wine list at 2x retail rather than the more typical 3x .', \"but it 's worth seeking out .\", 'save your money & your patience .', 'the dipping sauce was too sweet too .', 'there is a reason they can get you in fairly quickly .', 'if you travel a lot do not stay at this hotel .', \"he did n't even offer another time for me to come in .\", 'travel all around the world and know indian food well .', 'even in summer , they have decent patronage .', \"was n't busy , no biggie .\", 'this place smelt like old urine for some reason .', 'the food was mediocre at best , far too greasy and not cooked well .', 'service was great as they continued to check on our table .', 'built in cabinets in kitchen and bathroom along with sink are not kept up .', 'brittany gave me a very new haircut and transformed me completely .', 'portions are very generous and food is fantastically flavorful .', 'is zero stars an option ?', 'if you are looking to walk out transformed this is your place !', 'i will be going back and enjoying this great place !', 'no call , no nothing .', 'best breakfast i had on my recent trip to scottsdale .', 'just went back to get the rear tire sealed and filled .', 'great food , great service , their catering can not be beat .', \"i guess she was n't happy that we were asking the prices .\", 'i would never reccomend anyone to live here .', 'this place is edgy and fun .', 'this place is beyond a shit hole .', 'i also get dessert here when i have a sweet tooth .', 'i had to box it up even , such a huge portion .', 'i asked for thai hot and received very little spice .', 'loved the burgers , i had the jalapeo ranch burger it was really tasty .', 'homemade tortillas are so good !', 'unfortunately , it is the worst .', 'will definitely go back and recommend to friends .', 'dr. hall is so kind and gentle .', 'green chile chimis are fantastic .', 'the bread is definitely home made and i could probably eat it all day .', 'this was the first time i ever cried from a haircut .', \"they 're nowhere near any fight that breaks out .\", 'so , it went in the trash .', 'however , the manager came back & told me my order was coming up .', 'this piece of shit gave me wonton crackers for my soup .', 'the overall prices are not competitive with frys .', 'the service is friendly and attentive .', 'and i had my sugar bowl favorite , the top hat sundae !', 'stopped in for lunch , nice wine list , good service .', 'the service was great and would gladly go back .', 'very pleased with service and quality of work .', \"she said `` yes , sorry . ''\", \"had one mediocre meal and said , `` we 'll try again '' .\", 'everyone was extremely nice and professional .', 'this branch is getting worse and worse .', 'this place is just ok .', 'great place to go for games with multiple tvs and a lively crowd .', 'thanks for making our special night an event to remember .', 'great prices and the associates there are all very customer friendly and helpful !', 'we were sat right away and every staff member was extremely friendly and happy .', \"i 'm not one of the corn people .\", 'the ceiling air conditioner in the hallway is very loud .', 'definitely something i will have again !', 'i dont know why i was expecting anything different .', 'this is the perfect date night .', 'god i love pei wei .', 'his humor makes a routine visit entertaining .', '`` no , we are going to have a tournament tomorrow .', 'i also told him i would leave him some good feedback online .', 'beautiful scenery and friend staff .', \"said we could n't sit at the table if we were n't ordering dinner .\", 'i wanted to like this place but it just became a big disappointment .', 'i was very disappointed with this place .', 'thank you for a fabulous evening !', 'my father has decided to upgrade my mothers engagement ring this xmas .', 'two hours of my life i can never get back .', 'you will be helped by all of their friendly advise , and travel knowledge !', 'prime rib was fatty and not cooked per requested .', 'even the ice cream was very , very run of the mill .', 'pei wei has fair prices , fast service , and wonderful outdoor seating .', 'the best bar in town .', 'stopped by for soda after being at the hobby shop next door .', 'the rooms are not that nice and the food is not that good either .', 'plus my sparkling wine flights were delish !', 'the texture of the meat just looked and tasted wrong .', 'not so great food and service .', 'the california burrito was also a great burrito .', 'i tried to no avail .', 'however , it turned out to be nothing like i thought it would .', 'my pad thai tasted like thai rice noodles with barbeque sauce .', 'tried their lasagna and its the best ive ever had .', \"this is easily the worst greek food i 've had in my life .\", 'not so much these days .', 'the decor was seriously lacking .', 'is that a good thing or a bad thing ?', 'we were both so impressed .', 'everyone who works there is always so happy and friendly .', 'the new management team is horrible !', 'very throwback atmosphere ; vintage ice cream parlor .', 'i skipped eating and we went back to the beer .', 'it is a cool place , with lots to see and try .', \"the falafel 's looked like chicken nuggets , and were lacking flavor .\", 'you can tell how fresh the ingredients are .', 'the tow package is not an issue either .', 'so i brought my business elsewhere .', \"i mean that 's been my experience !\", 'rick is a seriously cool guy !', 'service was average but could not make up for the poor food and drink .', 'anything they say , ask in writing .', 'nope , way way worse .', 'they have a fantastic selection and a very knowledgeable staff .', \"yes , the portions were large , but size is n't everything .\", 'great selection of salads and pasta items in the deli .', 'the food is delicious and plentiful .', 'they made me feel like i was at home and their an extended family !', 'my dish was pretty salty and could barely taste the garlic crab .', 'outstanding persian food not to mention service .', 'the game room is a waste of time , energy and money .', 'this is a horrible venue .', 'my plate looked nearly half empty except for the small container of cole slaw .', 'fun place to go drink beer .', 'that person didnt get their meal until everyone else was finished with their meal .', 'i have to say i was truly disappointed .', 'i called at 6:30 and got the complete brush off .', 'this is the worst panda express location there is !', 'pricing is both affordable and reasonable .', 'it looks old and outdated .', \"one was for my dog , and one was for my wife 's dog .\", 'the food all looked great .', 'three women met for lunch last friday at elements at the sanctuary .', 'and every experience has been a positive one .', 'okay prices and great tastings at least once a month .', 'staff and the ride were terrific .', 'very busy but very good service .', 'their sandwiches were really tasty .', 'i wish i could give less than one star .', 'i would recommend dentistry of old town scottsdale to everyone .', 'as an arizona native , i have been going to the improv for years .', 'the food was good , steak bites and hummus plate a must .', 'talk about false advertising so call before you go !', 'now it is not so thin and taste like any other pizza place .', 'they were very friendly and apologetic .', \"it 's not my fave , but it 's not awful .\", \"if your patio is south facing , you 're out of luck .\", 'this is my go to neighborhood place .', 'for a local chain this place is great !', 'the best mexican food in the phoenix area .', 'i loved it and will definitely be back !', 'so far , great customer service .', 'their enchilada sauce perfectly complemented this dish .', \"i 'm not a fan of huge chain restaurants .\", 'but it is definitely worth the wait .', 'i had the burger once and it was juicy and very flavorful !', 'the woman who helped me today was very friendly and knowledgeable .', \"meanwhile i 'm waiting for an answer .\", 'it is such a cool little place to relax and get swanky .', 'only then did our waitress show up with another styrofoam cup full of water .', 'always a great experience there with the owner and the rest of the team .', \"we 've tried the cream pancakes as well .\", \"if you 're young and are into sports this is the place for you .\", 'i love the food ... however service here is horrible .', \"it smelled and tasted like yesterday 's oil .\", 'just a frozen patty cooked like a home one .', 'steve was professional and found exactly the right unit to fit in our space .', 'either way i would never recommend buying from camping world .', 'the man did not stop her .', 'they are all very friendly .', 'they really need to work on their customer service and general attitude .', 'and have enjoyed every last bite .', 'great food , low prices , and an authentic mexican cantina vibe .', 'no wonder these restaurants are closing up all around the valley .', 'so he can charge a bloody fortune for them .', \"i replied , '' um ... no i 'm cool .\", 'she just grabbed a couple empty dishes and walked off .', 'the birthday surprise has been ruined as well as her special day .', 'good drinks , and good company .', 'what the hell are you doing ?', \"one of the employees apologized , but it did n't seem very sincere .\", \"other than that , i really do n't know what was good about it .\", \"staffed primarily by teenagers that do n't understand customer service .\", 'i love their fresh juices as well .', 'they only received one star because you have to provide a rating .', 'these guys are top notch , honest and very reasonable .', 'the escargot was delicious , and seasoned perfectly .', \"let me give my opinion , that 's what this site is for .\", 'the others ordered the short rib hash , also over-cooked and dry .', 'sketchy sketchy sketchy pizza delivery !', \"he could n't actually read her pressure , though .\", 'this is the best yarn store in the metro area .', 'they are so fresh and yummy .', 'they will even deliver to the school !', \"the woman did n't even apologize .\", 'my dr pepper ribs were excellent and very tender .', 'they have a lot of choices for sushi lovers !', 'they are professional , thorough and attentive to our needs .', 'this course is one of the finest in the area .', 'great food , great decor !', 'fast , friendly and honest service .', 'they were extremely friendly and reasonably priced .', 'excellent knowledgeable dentist and staff !', 'always good after the river too .', \"as far as pizza goes this ranks with the best i 've ever eaten .\", \"we loved our day on the river and ca n't wait to go back !\", 'great food and awesome service !', 'and the fettuccine alfredo is absolutely scrumptious !', 'the octopus sashimi is my favorite !', \"they rush , rush and do n't pay attention to their customers .\", 'this is one place in scottsdale casual dress is acceptable .', 'it was my last weekend visiting my folks .', 'place was clean and well kept , drinks were reasonably priced .', 'the only saving grace was the black beans .', 'i said it was disgusting to even serve this to diners .', 'first time i came in , i knew i just wanted something new .', \"do n't go here unless you want to pay for crap .\", 'the message therapist is awesome also .', 'the staff is awesome and location is right in the heart of old town !', 'this spot was my favorite indian restaurant .', 'dropped off my red purse and three pair of black shoes .', \"we 've been to this long established restaurant many times .\", 'one of my regular spots in scottsdale .', 'i tried to call repeatedly with no response .', 'if i had wanted it washed i would have washed it myself !', \"i took the waiter 's recommendation of the veal carolina and it was super !\", 'i highly recommend this bakery !', 'we dropped our rental truck of at this location two weeks ago .', 'the store is dumpy looking and management needs to change .', 'a great place to watch sports !', 'i love this place , the service is always great !', 'their pizza is the best i have ever had as well as their ranch !', \"i did n't know worker there can get tips from customer .\", 'tires , alignment , brakes and more .', 'do not go to this practice they are horrible !', 'so basically tasted watered down .', 'the chow mein was very mushy and had weird texture .', 'the salads are ok , nothing special .', 'the service is mediocre and the restaurant is just average .', 'blue corn tacos with chicken were excellent .', 'she did an amazing job on my color and my cut !', 'he always looks gorgeous and is so happy when i pick him up !', 'otherwise a great experience and we will go again .', 'this is the worst walmart neighborhood market out of any of them .', 'the service was amazing and the staff was very friendly .', 'this is a fantastic location , especially because of teresa m !', 'my husband and i enjoyed our 3rd anniversary here .', 'the owner knows us and treats us very well !', 'but i darn sure could have cooked this one .', 'the marinara sauce is so flavorful .', 'i will never purchase another lv bag again .', \"it 's not much like an actual irish pub , which is depressing .\", 'i got a bagel breakfast sandwich and it was delicious !', 'biscuits and gravy are a great breakfast item too .', \"it 's a big bowl of sweet happiness .\", 'and the pizza was cold , greasy , and generally quite awful .', 'super tasty and a much better deal than the chain sub joints .', 'the calzones are awesome and the lunch special they have is perfect .', 'the staff was nowhere to be found .', \"my services were very rushed and she did n't even do a good job .\", \"if you 're into that sort of thing stop by and check it out !\", 'our bartender erik took care of my fiance and i very well .', 'this is by far my favorite pizza .', 'the good news that my vision had improved made the visit even better .', 'geez i need to find a source for those uni blocks ... .', 'there was no personality to our server .', \"it is n't terrible , but it is n't very good either .\", 'reasonable price , bottom line guaranteed .', 'the staff are all super friendly and on top of there jobs .', 'i highly recommend this shop .', 'the eggs are always fluffy , the side of fruit always good .', 'for the record i am a good cook , i use seasoning !', 'our waitress was the best , very accommodating .', 'fish tacos were pretty good .', 'great food recommendations steak and tuna were both great .', 'i expected so much better from this ny staple .', \"i just had probably one of the best restaurant experiences i 've ever had .\", 'food is very fresh and amazing !', 'portions n prices were great !', 'the sandwich was not that great .', 'zero complaints with his work .', 'i definitely recommend this place to others !', 'we love to come as a family .', 'went into this location to drop it off .', 'i love that this is the place in the comic - family circus .', 'charlie was clean neat and professional .', 'this is a terrible college .', \"i 've eaten here many times , but none as bad as last night .\", 'i love italian and i eat here often .', 'got screwed at bar that we made reservations at next door .', 'it is consistent and the staff is always friendly .', 'i do not like to be screwed over , or short changed .', 'the biscuits and gravy were good .', 'the adovada is hot but wonderful and the chocolate bread pudding is amazing .', 'their steak & salsa burrito was very very good and really big too .', 'we ate here yesterday for happy hour and it was fantastic .', 'i have gotten so many dresses at a steal of a price !', 'the chips and guacamole were excellent too !', 'executive chefs would walk by not even saying good morning .', \"i wo n't be ordering again .\", 'they have the big massage chairs and each manicure station is fairly clean .', 'i highly recommend e & m painting .', 'will never go back to kfc - they essentially stole from me !', 'they failed to tell us eating in the bar was an option .', \"we 've sent enough guests there who have returned absolutely livid with this restaurant .\", \"hopefully , i do n't take any bed bugs with me .\", 'there was only meat and bread .', 'i guess starbucks customer services is only good at some locations .', \"did n't seem to care about their job .\", 'the menudo here is perfect .', 'the cash register area was empty and no one was watching the store front .', 'we went with a group of eight and all had a great time .', 'my groupon is only for the two windows .', 'i got the tamale sampler .', 'certainly a good choice if going to a performing arts center event .', 'the staff are very friendly and on the ball .', 'it is the absolute worse place in the valley .', 'its not cheap but you get good value here .', 'the salads were fresh and crispy .', 'this is the best seafood joint in town .', 'always rude in their tone and always have shitty customer service !', 'wonderful staff , wonderful food , excellent prices .', \"blue cheese dressing was n't the best by any means .\", 'the problem is nothing was good .', 'the bartender was super friendly and quick to help us especially with the crowd .', 'she did offer me a copy if i would like a soda while waiting .', \"like it 's been in a fridge for a week .\", 'good food , great prices on wings on tuesdays .', 'beautiful decoration and great service .', 'this is a golf course that is tucked away it is in great condition .', \"this is the third time they 've messed up that spice .\", 'uneven pieces and falling apart -- i paid for that .', 'at no cost - great service !', 'i may make it back to the bar but i will skip the restaurant .', 'an old dude did my pedicure .', 'so who do i call to get my money back .', 'i know i should have sent this back and walk out .', 'she did not apologize or anything .', 'i just left this car wash and was very unsatisfied !', 'i just received a delivery order from them and essentially wasted my money .', 'she chose a great color that looks incredible with my skin , too .', 'this place is wonderful when you can actually sit outside .', 'i highly recommend this salon and the wonderfully talented stylist , angel .', \"it 's small yet they make you feel right at home .\", 'i also love their convenient location right off of scottsdale road .', 'also , the food is great !', 'everyone is always super friendly and helpful .', 'this place has some great food .', 'with that being said , i enjoyed the food .', 'myself and family / friends have been going to them for years !', 'the salsa is great , the fish top notch , the drinks just excellent .', 'the atmosphere was fun and the staff treats you well .', 'and the cleaning is way over priced .', 'bottom line they over promise and under deliver .', \"the pizza is offered without toppings and it 's lacking in flavor .\", \"tasted really old , i could n't believe it .\", 'mustard beef ribs are a must .', 'everything they serve there is wonderful .', 'the people at sonora were very good to me .', \"his offer of a `` free dessert '' was even more atrocious .\", 'it is also fun to sit at the bar .', \"and management does n't do anything about it .\", 'i went to sit down and wait for my order .', 'the crispy mango fish was very tasty .', 'there chips are ok , but their salsa is really bland .', \"new owner , i heard - but i do n't know the details .\", 'if i could give less stars , i would .', 'the beer was nice and cold !', 'the environment was cozy , the servers were friendly and on top of things .', 'this place has pissed me off for the last time .', 'there are no smiles and no customer service .', 'seriously though , i have never shopped here .', \"i did n't know ra was a chain .\", 'other than that , food here is pretty gross .', 'no massage with my manicure or pedicure .', 'loved the menu and the drinks .', 'this golf club is one of the best in my opinion .', 'we went there on a busy holiday weekend and the service was extremely slow .', 'this was by far the rudest person i spoke with .', 'i had the best pork belly here ever !', \"sometimes it 's a simple cut , other times is more complicated color .\", 'it was a great experience !', 'quality of food is fantastic .', \"no , i 'm not at a scottsdale club .\", 'the guys here are sooo incredibly nice and helpful .', 'a great museum to visit .', 'pizza was cooked to perfection and fast !', 'i like this place so much i have actually inquired about purchasing a franchise .', 'the restroom was a mess .', 'had to wait a month to get in .', 'the drinks were affordable and a good pour .', 'french toast plate was good , mom said , but eggs were cold .', 'great prices , great selection .', 'i also like the fact that they have fresh squeezed orange juice .', 'so , no treatment and no medication to help me deal with my condition .', \"even if i was insanely drunk , i could n't force this pizza down .\", 'they also have lost sight of what good deli food is .', 'the girls are very attractive and really friendly , not pushy at all .', 'oh i got my band geek back on now !', 'extremely attentive and genuinely a good person .', 'i may just post pictures to prove their shoddy work .', 'then he proceeded to tell me how to fix it .', 'everything is fresh and so delicious !', \"i 'm so happy and will definitely go back for future services .\", 'amazing food , great service .', 'best chicken parmesan i have ever had .', 'however , the tech said nothing to me about this .', 'they were great , not too greasy but fluffy and light .', 'heck , even the pizza is decent .', 'enjoyed the dolly a lot .', 'the place was busy but the service was excellent !', 'by far the best experience i have ever had in a auto shop .', \"that 's a rare find in a business .\", 'all around great place to grab a drink or two .', 'you have to sit outside to get the best experience from this place .', 'our experience with this business was positive .', 'the bbq salmon was good .', 'the office also failed to even apologize about this whole horrific experience .', 'i can honestly say i am so glad we will be moving to az .', 'so happy with my decision to go here .', 'wide spectrum of ages and races .', 'worst customer service i have ever had .', 'this was the best i have ever had !', 'you can not pay me to ever shop here !', 'i was also curious about another product but he straight up walked off .', 'i love the pork tacos .', 'all of the food that i had was excellent .', 'best green corn tamales around .', 'i ordered the carne asada steak and it was cooked perfectly !', 'this place is a terrible place to live !', 'had dinner here last night and it was great .', 'she kept our drinks full and gave us great food recommendations .', 'nice people , prompt service and clearly expert .', 'not personalized or warm at all .', 'but it probably sucks too !', \"there was no i 'm sorry or how did everything come out .\", 'the wine was very average and the food was even less .', 'i will definitely go here again !', 'great place to have some fresh and delicious donuts .', 'thanks for the perfect repair .', \"ever since joes has changed hands it 's just gotten worse and worse .\", 'a bit on the noisy side but the fresh food makes up for it .', 'it looks like blended up chicken put into the shape of grilled pieces .', 'when the manager finally showed up he was rude and dismissive !', 'its also not a very clean park .', 'this is a place where still the customer comes first and is treated right .', \"it was embarrassing for all involved , though i do n't think he noticed .\", 'fun and inexpensive way to enjoy and relax your day .', \"the door would n't open at all .\", 'i was not impressed , and would not recommend this place .', \"um , yah , it does n't need replacing just yet .\", 'we gave it another 5-10 minutes before we got up and left .', 'when i first came to phx ... yes this sounded indian to me .', 'a great little spot to throw back a few beers after a rough day .', \"their cheese i 'm certain was of the string variety .\", 'she did the most amazing job .', 'fantastic place to see a show as every seat is a great seat !', 'perhaps bread should be offered at no charge .', 'i got there , was seated pretty quickly , and then chose my color .', 'liar , liar , pants on fire .', 'not even real brown sauce .', \"she does n't say anything and just walks away .\", 'the carne asada burrito is awesome !', 'the queen bed was horrible !', \"the food is n't too bad but the service is terrible .\", 'the grilled artichokes are wonderful !', 'the owner replied , i will go in half with you .', 'really enjoyed the beautiful range .', \"always takes way too long even if you 're the only one there .\", 'every time i crave mexican food , i go here !', 'the equipment is so old and looks dirty .', \"everything we 've ever ordered here has been great tasting .\", 'they can thank you for the low rating .', 'food is always amazing no matter what i order .', 'the variety of sushi rolls makes for a good eating .', 'you get so much for the price and the food is fresh and delicious .', \"it 's hot , cooked perfectly , and delicious !\", 'these days the quality is pretty lousy .', 'one of my favorite chinese place to eat !', 'the only thing i was offered was a free dessert .', 'i love their flavored coffee .', \"i think it 's terrible when employees act that way .\", 'service was great and food was even better .', 'it is a half a day trip from phoenix area .', 'crab cakes , salt , no other flavor .', 'they are incredibly nice and accommodating .', 'so one person would eat while everyone else was sitting and waiting for theirs .', 'this place reminds me of home !', 'their staff is knowledgeable and informative .', 'but this place was not economical so the expectation was different .', 'i love their star design collection .', \"it shows because on a saturday night there was n't a long wait .\", 'very crowded , difficult to have a chance to actually have a good time .', 'this is pretty darn good pizza !', 'very good food and service !', 'let me tell you , this place was far from busy !', 'just left and took it off the bill .', 'great place to hang out , grab a meal and a few brews !', \"it 's a much better option than the club scene .\", 'would have rated lower if i could .', 'i signed up for their email and got a coupon .', 'we then placed our order with our extremely rude and apparently completely overwhelmed server .', 'i left hungry and unsatisfied , never again .', 'it was so odd , i asked her if she was joking ?', 'they do not stock some of the most common parts .', 'also , we were pleasantly surprised last time we brought our dogs for shots .', 'what were you going to charge me when i purchase a dozen bagels ?', 'food was cold ( still frozen ) , i had the ribs .', \"i ca n't believe how inconsiderate this pharmacy is .\", 'and the food is simply not as good as the other locations .', 'the service was excellent and my hostess was very nice and helpful .', 'i will not revisit this course as a visitor with limited time to play .', 'the most important thing , of course , is the food .', 'next dish was moo goo gai pan to which the sauce is the secret .', 'it was well worth it .', 'you can not judge people based on appearance .', \"overall , i do n't enjoy the place very much .\", 'staff : very cute and friendly .', 'we will not be coming back .', 'you are not the only place in town with decent pizza .', 'the menu is very simple , healthy , and tasty .', 'everyone is friendly and knowledgeable .', 'plus he has amazing prices , how could you not go ?', 'his egg sandwiches stink like feet and are slimy .', 'this place is super yummy !', 'it tasted like melted plastic and had the same tough consistency .', 'management no longer cares about the golf experience .', 'when it finally came out , it was bad .', 'excellent combination of flavors , very unique .', 'i emailed to let them know but they apparently dont care .', 'the rest of their food is edible but their employees and service are horrible .', 'so sad but i am not going back any more .', 'i had a horrible experience , and i sadly would not come back .', 'this place has been making great sushi and sashimi for years .', 'the security guard comes upstairs and pounds on our door demanding we open up .', 'oh , i should not have asked .', 'this place is dirty and run down and the service stinks !', 'i do not recommend anyone to this starbucks .', 'we will not be using this location again .', 'horrible job on nails and toes .', 'great staff and wonderful food .', 'tzatziki sauce had way too much dill in it .', 'the evening started out slow .', 'i just walked out , called the manager to complain .', 'went back in for adjustment , realized still incorrect .', \"grimaldi 's is the most consistently amazing pizza place in arizona .\", 'my jack and coke was seriously lacking .', 'service was wonderful to match !', 'the bread was soggy and the dip was inedible .', 'but unfortunately the rude woman was the one checking us out .', 'suzanne and her staff were excellent !', 'there are better happy hours and better beers all around mill !', 'casual atmosphere , upscale food .', 'the food was so-so and very over priced for what you get .', 'definitely a must do if you have time in the phoenix area .', 'too bad it was at the expense of the other customers .', 'very disappointed and would stay clear of this place .', 'ra sushi , you are so blah to me .', 'i rate the experience as followed .', \"the food 's ok , the service is among the worst i have encountered .\", 'we asked how long the wait would be , she said she was unsure .', \"it did n't get finished .\", 'incredible , low price specials and the occasional groupon .', 'we sit down and we got some really slow and lazy service .', 'will bring all my vehicles back for sure !', 'when i was finally there , i was very disappointed .', 'furthermore , there is no sausage or bacon on the menu .', ', to name a few shows we have seen here .', 'the fried rice was gross and there was a shit load of it .', 'the mechanics are very amateur as usual .', \"so you are n't my problem . ''\", \"i 'm stuck in a lease otherwise i would move .\", 'a steak , shrimp and an enchilada .', 'the best deals in the store are on these racks .', 'so i asked for the card to be refunded .', 'russ was a well qualified tech .', 'the place has obviously gone downhill over the years .', 'great kebab dishes and good service .', 'perfect spot to shop for gift !', 'after eating several other gyro place kings still has the best sauce .', 'my husband got a ruben sandwich , he loved it .', 'also , could they not bring a single pack of cheese or red peppers ?', 'ron is still the greatest .', 'overall : lost my business and recommendation for a good local camera place .', 'omg carlsbad tavern is awesome !', 'she was not happy being there .', 'the beef taco was good but nothing special .', 'i will definitely return often !', 'decent selection of meats and cheeses .', 'nothing but excellent customer service every time i come here .', 'the service has always been wonderful .', \"we did n't leave with anything that day .\", 'second time , not so good .', \"i 'll definitely go back here again .\", 'corn bread was also good !', 'now the food , drinks , and desserts are amazing .', 'it was just so cute and quaint !', \"i was n't going to let her do a thing further to me .\", 'cooked to perfection and very flavorful .', 'love this place and will keep coming back .', 'definitely a place to keep in mind .', 'this adds the last little touch to what was already an amazing place .', 'that comes with the smaller location though .', 'all in all pretty good !', 'also the crab wontons rule along with the spicy plum sauce .', 'this room that he found also reeked of smoke !', 'all had that satisfying grease flavor that washed down well with beers .', 'so , that was my one and only time ordering the benedict there .', 'the owner is a hoot and the facility is very accommodating .', 'the garlic bread was bland and cold .', 'the green enchiladas were ok but not great .', \"it 's basic , traditional , mexican food that is homemade and tastes great .\", \"also , the food that is there is n't great even by buffet standards .\", 'the two gentle men up front are always so kind .', 'oh sushi kee , how i love thee !', 'thank you ladies for being awesome !', 'the crew was very friendly and accommodating .', 'the associates program is no longer an option .', 'owner : a very rude man .', 'had to returned one entree because too cold .', 'i have had a great experience every time from start to finish .', 'i always have a great dish here to eat .', 'and i get the gyro sandwich every time and its the best .', 'the surly older waitress was a huge bummer .', 'sit at the bar and eat the small plates .', 'who knows , it might have been .', 'jennifer is great and she really makes skin care affordable .', 'the only item was able to eat was the soggy broccoli beef !', 'keep up the amazing service !', 'my fault for not looking more closely , i guess .', 'this location is super busy and really could use double the staff .', 'came here to get breakfast and that was the best decision yet .', 'university is also almost as bad as living on apache .', \"when she did n't answer him quickly enough , he hung up on her .\", 'simply , there are far superior places to go for sushi .', 'i expected service to be slow that morning , and it was .', 'it is way overpriced ( compare to what they serve !', 'it was over fried and very hard .', 'i had to leave a message , and they never called me back .', 'when i complained in a polite way , i was walked out the door .', 'needless to say , i will not be returning to this place ever again .', 'this place still kicks ass .', 'lost a long time customer !', 'really good service and food .', 'they loved the rock climb .', 'it is not really brown rice .', 'needless to say , i contacted the store manager directly after leaving .', 'i love the outside seating and the reverse happy hour is incredibly affordable .', 'the chicken chimi i had was absolutely fantastic !', 'but was very disappointed with what actually arrived .', \"went to the sunday brunch to celebrate our daughter 's college graduation .\", \"the flourless chocolate cake was one of the best desserts i 've ever had .\", 'pricy but the cheese pies are delicious !', 'this place offers solid , delicious take out .', 'it is very very family oriented and we loved that too !', 'the employees always remember me and my dog , which is very nice .', 'while the menu is simple , what it does offer is truly first-rate .', 'ordered the huevos rancheros and it was delicious !', \"not sure and i do n't care !\", 'this one is not on the ball .', 'sadly , i will probably never be able to eat at this place again .', 'as soon as they delivered i was like ugh .', \"did n't even get a response .\", 'overall it was a miserable evening .', 'always fresh , fat , and delicious .', 'i ordered garlic bread and fettuccine alfredo pasta with vegetables .', 'try anything on the menu and you will be glad you came in !', 'i acknowledged this and he went back to take care of the bill .', 'management does not seem to care .', 'friendly and welcoming with a fun atmosphere and terrific food .', 'half of my head was over processed .', 'they charged me for work not done , and parts not installed .', \"you 'll see why once you get there .\", 'just terrible is all i can say .', 'great service by the staff .', \"it was so delicious ; i 've never had anything like it !\", 'it does not take that long to cook sliders !', 'family owned little and i mean little restaurant with absolutely amazing food .', 'the meatloaf ( when they have it ) is amazing .', 'he did not return my call either .', \"i 'd definitely recommend giving them a try .\", \"so far i 'm not really impressed .\", 'did they not have a fountain machine on site ?', 'the best part of my thanksgiving dinner by far was sweet cakes pecan pie .', 'cleaned my plate , perfect amount of food .', 'friendly folks , delicious authentic bagels , tasty cream cheese .', 'i had a spanish omelet was huge and delicious .', 'had the normal gyro sandwich with their sauce ... very good .', 'seems pretty high compared to every other thai place .', 'this cute little pizza , salad and pasta place in east chandler is great .', 'love the afternoon - tea at the phoenician .', 'they are super friendly , very helpful , and amazingly quick !', 'also matt was super cool and helpful .', 'when i picked up the order , i was given another totally different price .', \"they 've added some new items on the menu since my last visit .\", \"it 's just too expensive for what you get .\", 'pool tables and inexpensive drinks make this a fun night out !', \"i 'll keep looking for a different salon .\", 'however , this experience went pretty smooth .', 'pathetic place , worst food .', 'i spent time with my best buds and enjoyed some excellent wine and food .', 'safeway has officially lost my business to sprouts , & fresh & easy .', \"i 'm sure they must get it right some days but not this day .\", 'go here , you will love it .', 'i checked online , and the coupon site said my certificate was good .', 'do not go here if you are interested in eating good food .', 'i refused to purchase any of the pictures based on quality .', 'i love the cornbread appetizer .', \"i did n't even eat it .\", 'it shows that this restaurant has no class .', 'so i ordered my tires online , scheduled an appointment for two days out .', \"the place is small , i 'm sure she could have figured it out .\", 'as for the food , never had it .', 'their front line is so much cheaper than petsmart !', 'but it may not actually be in stock anyway .', 'thank you fiesta , lunch with you is always good .', 'bartender made a great dirty martini !', 'we stood there in shock , because we never expected this .', 'lastly but not least , their brownie desert was ... meh .', 'salsa is not hot or good .', \"razz 's failed on every occasion .\", 'if you sit in the bar they have the best bartender in town .', 'the food is not that authentic .', 'think twice -- this place is a dump .', 'thank you amanda , i will be back !', 'in the long run , they did absolutely nothing for me .', 'it was very good to !', 'no stars is what in want to give .', \"i 've never had a worse experience than this !\", 'and the seafood enchiladas were great !', 'he is very thorough and genuinely cares for his customers .', 'their lunch special is a great value !', \"other than that , it 's great !\", 'super good deals and very friendly staff .', 'customer service was great there .', 'no courtesy and their food is pathetic .', 'very good brunch , was impressed with selection and quality .', 'i have not received such an attitude toward a customer before .', 'my meal was very satisfying and flavorful .', 'tonight though i ordered to go and the food was just as good .', 'one of my favorite places to go for a great steak .', 'nice club good layout the course was in good to above average shape .', \"if i was n't with my coworker , i would 've walked out .\", 'too bad too because they brew an outstanding beer .', \"it 's good solid food .\", 'when i arrived , no one was at the desk .', \"i 'm a regular drive-through customer at this location .\", 'what about the time i wasted ?', \"i would n't go back there again .\", 'giving an extra star for customer service .', 'included in this price was a credit card fee and an after midnight fee .', 'in turn my legs are burnt from the noodles and all over the floor .', 'i just returned from a delightful stay at the camelback .', 'it is an international delight .', '20-30 % capacity at most , i was the only one in the pool .', 'there are much better places for breakfast .', 'this is a far cry from real new mexican cuisine .', 'sad what has happened to this sandwich shop .', 'even their steamed veggies are amazing .', 'he was both professional and courteous .', 'prices are a tad high but worth it .', 'now the food : not horrible , but below average .', 'i reccomend the drunken dragon noodles ( for you spicy lovers ! )', 'it will stay with you all day .', 'we will spend our money elsewhere .', 'love my cut and color and sage is amazing !', 'they are spacious with modest decor .', 'the prices were the best and worth it .', 'even the sides were great .', 'the staff made us feel very welcome and comfortable .', 'the beer sauce is lackluster at best .', 'i will never visit the salon again .', \"i 'm from the bay area and this was a disappointment and over priced .\", 'but let this story begin at noon today .', \"she said she 'd be back and disappeared for a few minutes .\", 'and again , the food is incredibly delicious !', 'nothing but happy thoughts from anyone i have sent their way !', 'i was very sick the night after .', 'horrible , horrible , horrible service !', \"totally will come back next time i 'm in town .\", 'oj and jeremy did a great job !', 'service was a little slow to begin with .', 'i was so disgusted i could not way for the rest of the day .', 'definitely disappointed that i could not use my birthday gift !', 'always order the tzatziki sauce with everything you get !', 'you can come in , spend any amount of money and enjoy something amazing .', 'i got my car detailed here and it looked amazing !', 'they make a bad name for used car dealers .', 'this was my first stop in looking for a wedding dress .', 'the happy hour crowd here can be fun on occasion .', \"it 's located in a great part of scottsdale and was really accommodating .\", 'the food is great here and very authentic .', 'very helpful , hospitable , knowledgeable , and informative .', 'my daughter received great care .', \"we told them to forget it , we did n't want to wait .\", 'actually , just keep walking .', 'but it was disgusting and hot in there .', 'all she did was give me the run around and lied and bs everything .', 'very friendly staff and manager .', 'they also are the best price in the area .', 'the art in the alley behind it is cool too !', 'nothing that special about this place .', 'overcooked so badly that it was the consistency of canned tuna fish .', 'love the vibe of this place !', 'i should have stuck with sun chinese dining .', 'the burgers were over cooked to the point the meat was crunchy .', 'took home the most delicious white pizza since living here in az .', 'however , everyone else paid after their nails were completed .', 'great lunch specials and awesome staff .', 'the soup is absolutely to die for .', 'they are always doing a good job .', 'the hummus is ridiculously creamy and delicious .', 'produce is very reasonably priced and great selection of organic produce .', 'finally , the cheese crisp was tiny and was anything but crisp .', 'were we irritating her or something ?', \"i 'm not willing to take the chance .\", 'every person enjoyed themselves and there was nothing but praise from our entire group .', 'even the water tasted horrible .', 'the service was top notch and the food was a bit of heaven .', 'prices are just plain retail .', \"did n't feel like dealing with the restaurants closer to asu .\", 'the thai basil pasta came out lukewarm and spicy .', \"my `` hot '' sub was cold and the meat was watery .\", \"if i was the manager , i 'd fire that kid on the spot .\", 'a great stop if you want nice things at a steal .', 'well worth searching out this gem .', 'oh well , who cares ... right ?', 'the salsa was fantastic although next time i will ask for a hotter one .', 'it can be pricey , but it is really worth it .', 'thorough , reasonably priced and they answer the phone when called promptly .', 'this resort has been in scottsdale forever and it truly knows service .', 'maria the manager is a horrible person .', 'she was getting pissed , and so were we .', 'service was just as disappointing .', \"wendy 's has been know to be cheap with their drink refills for years .\", 'the atmosphere is at the sugar bowl is fun .', 'chicken fried chicken was dry but the green chili macaroni and cheese was good .', 'the service was great , food delicious , and the value impeccable .', 'the customer service in this location is great !', 'they tried to take advantage of me because i am young .', \"just do n't bother ordering anything if you 're seated .\", 'there is definitely not enough room in that part of the venue .', 'love their food and their passion .', 'absolutely ridiculous stay away from this place .', 'i actually can wait to come back next year !', 'i definitely will return to the roaring fork !', 'love the mole sauce , chips are nice and thick .', 'the lunch and dinner items are very good as well .', \"um ... we just told him that we did n't want to finance .\", 'the sales people here are terrible .', 'nice menu , good prices , great service - for both dinner and breakfast !', 'i guess even great restaurants have bad days .', 'the woman who works in the deli is horrible .', 'this is the reason i will never go back .', 'we recommend imports & american auto service to everyone we know .', 'always a fun and friendly atmosphere .', 'tonight i lost all respect for this company .', 'they tried real hard to get me to come back but i refused .', \"the color that she uses on my girlfriend 's hair looks great .\", 'the food here is delicious .', \"we 'll certainly be back !\", 'the building itself looks abandoned .', 'if i could give zero stars i def would .', \"the beer is n't bad , but the food was less than desirable .\"]\n"
          ]
        }
      ]
    },
    {
      "cell_type": "code",
      "source": [
        "shortword = re.compile(r'\\W*\\b\\w{1,2}\\b')\n",
        "\n",
        "reviews_c = []\n",
        "for i in reviews:\n",
        "  reviews_c.append(shortword.sub('', i))\n",
        "\n",
        "print(reviews_c)"
      ],
      "metadata": {
        "colab": {
          "base_uri": "https://localhost:8080/"
        },
        "id": "9noOhp9rsfzZ",
        "outputId": "0535a8df-9c93-4a6f-cbc2-864f3523a97d"
      },
      "execution_count": 50,
      "outputs": [
        {
          "output_type": "stream",
          "name": "stdout",
          "text": [
            "[' whole new experience and new flavors each time you .', ' disappointing from old favorite .', ' the most authentic thai the valley .', ' not sign lease with these people .', ' was nervous and she made feel comfortable and welcome .', 'the only thing received that was hot was the coffee .', ' , not the ones asu , the ones junior high .', 'they bring out front for you and are very helpful .', 'plus the dude did even know how work the computer .', 'they have excellent selection combos choose from .', 'they above and beyond !', ' this location the service was terrible .', ' ordered cesar salad with side blackened chicken .', 'very nice location for weekend volleyball tournaments !', 'one best veal dishes ever had and reasonable prices .', 'the food worse than you find the freezer section walmart .', 'but being tucson native this place brought nostalgia via tastebuds .', 'fun watch the kitchen rush hour .', 'when came should have sent back .', 'needless say will not back for mexican food .', 'stay away , and cheesecake instead .', ' highly recommend the ahi tuna .', ' both found overcooked -- and seasonings .', 'good selection parts and accessories and reasonable prices .', ' husband had walk the bar place our wine order .', ' still craving drunken noodles !', 'everyone that spoke with was very helpful and kind .', 'all clothes are returned sparkling condition !', ' hate see what their delivery times are when last call .', 'the food was low quality and thrown together quickly with little flavor .', 'moving past the shape , they were dry and truly tasteless .', 'this old worn out hotel .', 'the espresso was way too hot .', 'the food was pretty bad would not there again .', 'first , the bartender was -- hole .', ' waste the trip .', 'you find better selection scottsdale .', 'enjoy taking family here always the freshest sea food .', 'the rice was cold and hard and the taste was very bland .', 'absolutely terrible not order from this place .', 'ambiance and setting were superb .', 'one broken thing after another they care address .', ' wife came for alterations and was treated quite rudely .', 'absolutely hands down the best dentist office the east valley !', 'parking signs anything you just have guess .', 'fun place catch game and catch/ people .', ' suppose forgotten how bland their offerings really are .', 'coupon not , this place extra nice and very good value .', 'safe say will going other walgreens locations from now .', 'she was patient , kind and understanding .', 'the wonton was seriously lacking filling .', 'food here also good !', ' was walk and got helped right away !', 'food good plate went long way .', 'the grounds are always very clean .', 'this place must you bride !', 'service fair , pace was bad between courses - long waits .', 'the portions were huge , the food came out hot , fresh and good .', ' enjoy coming here for lunch get the slices .', 'when get into town , this the first place come !', 'these two women are professionals .', 'nice selection games play .', 'they have delicious soups everyday .', 'this rare gem and excited have found .', ' was pleased with their service .', 'they also found apartment which pretty hard find .', 'exhibit more student services peeps .', 'they were helpful , kind , and reasonably priced .', 'had not been terribly hot would have just been inconvenient .', 'she was spot they were delicious .', 'well the food was great and the price was even better .', 'the beans were the burro the rice was nowhere found .', 'awesome and fast service , these guys really know their stuff .', 'nice for and work and have great breakfast !', 'the food also very good .', 'avoid all possible .', 'the margaritas were also tasted and the churros with ice cream was also outstanding .', 'super friendly staff , quick service and amazing and simple food done right !', 'the sushi here great and love the cucumber salad .', ' was much not good that just wanted out there .', 'the wine list was the best part .', 'but the customer service ruins all for .', ' been here several times and every time has been great .', 'good place for romantic dinner !', ' did matter she good all other times .', 'gammage itself however not amazing .', 'the green chile mac and cheese was incredible !', ' not like the size the dance floor .', ' would rather wait for hot food than have cold and soggy .', 'came here with family .', 'its quiet and nice people are here .', ' also quite expensive for taste .', 'this place shit hole with shit service .', 'had blast and the food their restaurant was excellent !', 'most delicious authentic chinese food !', ' was pretty inexpensive and they played good music videos .', ' toddler found dead mouse under one the seats .', ' see that happens , but not holding breath .', 'she was absolutely fantastic and love what she did !', ' always busy and the restaurant very dirty .', 'took suite get fitted and new button put .', 'great quality , great service .', 'found the place even though hard due bad signage .', 'the food always fresh .', 'the lady the front desk was not very friendly .', ' mom ordered the teriyaki chicken bento box and ordered the sashimi box .', 'but their inventory was questionable !', 'food was alright maybe should have ordered off the mexican menu .', 'what waste time and theirs .', 'food super and well priced .', 'the firecracker shrimp and duck also always winner .', ' looked around and there were still customers .', 'the food here bland and boring and bad .', 'since their visit , the only scorpions seen were dead !', 'only now really hungry , and really pissed off .', 'the food good and from what can tell rather authentic .', 'sounds good does ?', 'they tell you though .', 'this woman should not the service industry with that attitude .', 'maybe they were having bad night ?', 'the charge did include miso soup and small salad .', 'their small calzone really gigantic !', 'plenty eat and amazing flavor .', 'she could not and would not explain herself .', 'the patio fun place sit 7pm .', 'ate kicked ass , marquee , not much .', 'overall really good quality food and service .', 'bad service these areas and really ruined our visit .', 'firstly , their fees are generally higher than other places .', 'anyway got our coffee and will not return this location .', 'and for this reason return .', ' highly recommend impact auto body .', 'friendly owners and staff and delicious food !', 'the wait staff extremely attractive and friendly !', 'the bathroom area nothing special .', 'unfortunately , the tour guides are not experts .', 'desert followed but nothing special .', ' loved the ribs more than the chicken .', 'the server was buying .', 'great food but horrible staff and very very rude workers !', 'best take out eat sushi !', 'you have zero appetite after the first bite .', 'nice wine list retail rather than the more typical .', 'but worth seeking out .', 'save your money & your patience .', 'the dipping sauce was too sweet too .', 'there reason they can get you fairly quickly .', ' you travel lot not stay this hotel .', ' did even offer another time for come .', 'travel all around the world and know indian food well .', 'even summer , they have decent patronage .', 'was busy biggie .', 'this place smelt like old urine for some reason .', 'the food was mediocre best , far too greasy and not cooked well .', 'service was great they continued check our table .', 'built cabinets kitchen and bathroom along with sink are not kept .', 'brittany gave very new haircut and transformed completely .', 'portions are very generous and food fantastically flavorful .', ' zero stars option ?', ' you are looking walk out transformed this your place !', ' will going back and enjoying this great place !', ' call nothing .', 'best breakfast had recent trip scottsdale .', 'just went back get the rear tire sealed and filled .', 'great food , great service , their catering can not beat .', ' guess she was happy that were asking the prices .', ' would never reccomend anyone live here .', 'this place edgy and fun .', 'this place beyond shit hole .', ' also get dessert here when have sweet tooth .', ' had box even , such huge portion .', ' asked for thai hot and received very little spice .', 'loved the burgers had the jalapeo ranch burger was really tasty .', 'homemade tortillas are good !', 'unfortunately the worst .', 'will definitely back and recommend friends .', '. hall kind and gentle .', 'green chile chimis are fantastic .', 'the bread definitely home made and could probably eat all day .', 'this was the first time ever cried from haircut .', 'they nowhere near any fight that breaks out .', ' went the trash .', 'however , the manager came back & told order was coming .', 'this piece shit gave wonton crackers for soup .', 'the overall prices are not competitive with frys .', 'the service friendly and attentive .', 'and had sugar bowl favorite , the top hat sundae !', 'stopped for lunch , nice wine list , good service .', 'the service was great and would gladly back .', 'very pleased with service and quality work .', \"she said `` yes , sorry . ''\", \"had one mediocre meal and said try again '' .\", 'everyone was extremely nice and professional .', 'this branch getting worse and worse .', 'this place just .', 'great place for games with multiple tvs and lively crowd .', 'thanks for making our special night event remember .', 'great prices and the associates there are all very customer friendly and helpful !', ' were sat right away and every staff member was extremely friendly and happy .', ' not one the corn people .', 'the ceiling air conditioner the hallway very loud .', 'definitely something will have again !', ' dont know why was expecting anything different .', 'this the perfect date night .', 'god love pei wei .', 'his humor makes routine visit entertaining .', ' are going have tournament tomorrow .', ' also told him would leave him some good feedback online .', 'beautiful scenery and friend staff .', 'said could sit the table were ordering dinner .', ' wanted like this place but just became big disappointment .', ' was very disappointed with this place .', 'thank you for fabulous evening !', ' father has decided upgrade mothers engagement ring this xmas .', 'two hours life can never get back .', 'you will helped all their friendly advise , and travel knowledge !', 'prime rib was fatty and not cooked per requested .', 'even the ice cream was very , very run the mill .', 'pei wei has fair prices , fast service , and wonderful outdoor seating .', 'the best bar town .', 'stopped for soda after being the hobby shop next door .', 'the rooms are not that nice and the food not that good either .', 'plus sparkling wine flights were delish !', 'the texture the meat just looked and tasted wrong .', 'not great food and service .', 'the california burrito was also great burrito .', ' tried avail .', 'however turned out nothing like thought would .', ' pad thai tasted like thai rice noodles with barbeque sauce .', 'tried their lasagna and its the best ive ever had .', 'this easily the worst greek food had life .', 'not much these days .', 'the decor was seriously lacking .', ' that good thing bad thing ?', ' were both impressed .', 'everyone who works there always happy and friendly .', 'the new management team horrible !', 'very throwback atmosphere ; vintage ice cream parlor .', ' skipped eating and went back the beer .', ' cool place , with lots see and try .', 'the falafel looked like chicken nuggets , and were lacking flavor .', 'you can tell how fresh the ingredients are .', 'the tow package not issue either .', ' brought business elsewhere .', ' mean that been experience !', 'rick seriously cool guy !', 'service was average but could not make for the poor food and drink .', 'anything they say , ask writing .', 'nope , way way worse .', 'they have fantastic selection and very knowledgeable staff .', 'yes , the portions were large , but size everything .', 'great selection salads and pasta items the deli .', 'the food delicious and plentiful .', 'they made feel like was home and their extended family !', ' dish was pretty salty and could barely taste the garlic crab .', 'outstanding persian food not mention service .', 'the game room waste time , energy and money .', 'this horrible venue .', ' plate looked nearly half empty except for the small container cole slaw .', 'fun place drink beer .', 'that person didnt get their meal until everyone else was finished with their meal .', ' have say was truly disappointed .', ' called and got the complete brush off .', 'this the worst panda express location there !', 'pricing both affordable and reasonable .', ' looks old and outdated .', 'one was for dog , and one was for wife dog .', 'the food all looked great .', 'three women met for lunch last friday elements the sanctuary .', 'and every experience has been positive one .', 'okay prices and great tastings least once month .', 'staff and the ride were terrific .', 'very busy but very good service .', 'their sandwiches were really tasty .', ' wish could give less than one star .', ' would recommend dentistry old town scottsdale everyone .', ' arizona native have been going the improv for years .', 'the food was good , steak bites and hummus plate must .', 'talk about false advertising call before you !', 'now not thin and taste like any other pizza place .', 'they were very friendly and apologetic .', ' not fave , but not awful .', ' your patio south facing , you out luck .', 'this neighborhood place .', 'for local chain this place great !', 'the best mexican food the phoenix area .', ' loved and will definitely back !', ' far , great customer service .', 'their enchilada sauce perfectly complemented this dish .', ' not fan huge chain restaurants .', 'but definitely worth the wait .', ' had the burger once and was juicy and very flavorful !', 'the woman who helped today was very friendly and knowledgeable .', 'meanwhile waiting for answer .', ' such cool little place relax and get swanky .', 'only then did our waitress show with another styrofoam cup full water .', 'always great experience there with the owner and the rest the team .', ' tried the cream pancakes well .', ' you young and are into sports this the place for you .', ' love the food ... however service here horrible .', ' smelled and tasted like yesterday oil .', 'just frozen patty cooked like home one .', 'steve was professional and found exactly the right unit fit our space .', 'either way would never recommend buying from camping world .', 'the man did not stop her .', 'they are all very friendly .', 'they really need work their customer service and general attitude .', 'and have enjoyed every last bite .', 'great food , low prices , and authentic mexican cantina vibe .', ' wonder these restaurants are closing all around the valley .', ' can charge bloody fortune for them .', ' replied cool .', 'she just grabbed couple empty dishes and walked off .', 'the birthday surprise has been ruined well her special day .', 'good drinks , and good company .', 'what the hell are you doing ?', 'one the employees apologized , but did seem very sincere .', 'other than that really know what was good about .', 'staffed primarily teenagers that understand customer service .', ' love their fresh juices well .', 'they only received one star because you have provide rating .', 'these guys are top notch , honest and very reasonable .', 'the escargot was delicious , and seasoned perfectly .', 'let give opinion , that what this site for .', 'the others ordered the short rib hash , also over-cooked and dry .', 'sketchy sketchy sketchy pizza delivery !', ' could actually read her pressure , though .', 'this the best yarn store the metro area .', 'they are fresh and yummy .', 'they will even deliver the school !', 'the woman did even apologize .', ' pepper ribs were excellent and very tender .', 'they have lot choices for sushi lovers !', 'they are professional , thorough and attentive our needs .', 'this course one the finest the area .', 'great food , great decor !', 'fast , friendly and honest service .', 'they were extremely friendly and reasonably priced .', 'excellent knowledgeable dentist and staff !', 'always good after the river too .', ' far pizza goes this ranks with the best ever eaten .', ' loved our day the river and wait back !', 'great food and awesome service !', 'and the fettuccine alfredo absolutely scrumptious !', 'the octopus sashimi favorite !', 'they rush , rush and pay attention their customers .', 'this one place scottsdale casual dress acceptable .', ' was last weekend visiting folks .', 'place was clean and well kept , drinks were reasonably priced .', 'the only saving grace was the black beans .', ' said was disgusting even serve this diners .', 'first time came knew just wanted something new .', ' here unless you want pay for crap .', 'the message therapist awesome also .', 'the staff awesome and location right the heart old town !', 'this spot was favorite indian restaurant .', 'dropped off red purse and three pair black shoes .', ' been this long established restaurant many times .', 'one regular spots scottsdale .', ' tried call repeatedly with response .', ' had wanted washed would have washed myself !', ' took the waiter recommendation the veal carolina and was super !', ' highly recommend this bakery !', ' dropped our rental truck this location two weeks ago .', 'the store dumpy looking and management needs change .', ' great place watch sports !', ' love this place , the service always great !', 'their pizza the best have ever had well their ranch !', ' did know worker there can get tips from customer .', 'tires , alignment , brakes and more .', ' not this practice they are horrible !', ' basically tasted watered down .', 'the chow mein was very mushy and had weird texture .', 'the salads are , nothing special .', 'the service mediocre and the restaurant just average .', 'blue corn tacos with chicken were excellent .', 'she did amazing job color and cut !', ' always looks gorgeous and happy when pick him !', 'otherwise great experience and will again .', 'this the worst walmart neighborhood market out any them .', 'the service was amazing and the staff was very friendly .', 'this fantastic location , especially because teresa !', ' husband and enjoyed our 3rd anniversary here .', 'the owner knows and treats very well !', 'but darn sure could have cooked this one .', 'the marinara sauce flavorful .', ' will never purchase another bag again .', ' not much like actual irish pub , which depressing .', ' got bagel breakfast sandwich and was delicious !', 'biscuits and gravy are great breakfast item too .', ' big bowl sweet happiness .', 'and the pizza was cold , greasy , and generally quite awful .', 'super tasty and much better deal than the chain sub joints .', 'the calzones are awesome and the lunch special they have perfect .', 'the staff was nowhere found .', ' services were very rushed and she did even good job .', ' you into that sort thing stop and check out !', 'our bartender erik took care fiance and very well .', 'this far favorite pizza .', 'the good news that vision had improved made the visit even better .', 'geez need find source for those uni blocks ... .', 'there was personality our server .', ' terrible , but very good either .', 'reasonable price , bottom line guaranteed .', 'the staff are all super friendly and top there jobs .', ' highly recommend this shop .', 'the eggs are always fluffy , the side fruit always good .', 'for the record good cook use seasoning !', 'our waitress was the best , very accommodating .', 'fish tacos were pretty good .', 'great food recommendations steak and tuna were both great .', ' expected much better from this staple .', ' just had probably one the best restaurant experiences ever had .', 'food very fresh and amazing !', 'portions prices were great !', 'the sandwich was not that great .', 'zero complaints with his work .', ' definitely recommend this place others !', ' love come family .', 'went into this location drop off .', ' love that this the place the comic - family circus .', 'charlie was clean neat and professional .', 'this terrible college .', ' eaten here many times , but none bad last night .', ' love italian and eat here often .', 'got screwed bar that made reservations next door .', ' consistent and the staff always friendly .', ' not like screwed over short changed .', 'the biscuits and gravy were good .', 'the adovada hot but wonderful and the chocolate bread pudding amazing .', 'their steak & salsa burrito was very very good and really big too .', ' ate here yesterday for happy hour and was fantastic .', ' have gotten many dresses steal price !', 'the chips and guacamole were excellent too !', 'executive chefs would walk not even saying good morning .', ' ordering again .', 'they have the big massage chairs and each manicure station fairly clean .', ' highly recommend painting .', 'will never back kfc - they essentially stole from !', 'they failed tell eating the bar was option .', ' sent enough guests there who have returned absolutely livid with this restaurant .', 'hopefully take any bed bugs with .', 'there was only meat and bread .', ' guess starbucks customer services only good some locations .', 'did seem care about their job .', 'the menudo here perfect .', 'the cash register area was empty and one was watching the store front .', ' went with group eight and all had great time .', ' groupon only for the two windows .', ' got the tamale sampler .', 'certainly good choice going performing arts center event .', 'the staff are very friendly and the ball .', ' the absolute worse place the valley .', 'its not cheap but you get good value here .', 'the salads were fresh and crispy .', 'this the best seafood joint town .', 'always rude their tone and always have shitty customer service !', 'wonderful staff , wonderful food , excellent prices .', 'blue cheese dressing was the best any means .', 'the problem nothing was good .', 'the bartender was super friendly and quick help especially with the crowd .', 'she did offer copy would like soda while waiting .', 'like been fridge for week .', 'good food , great prices wings tuesdays .', 'beautiful decoration and great service .', 'this golf course that tucked away great condition .', 'this the third time they messed that spice .', 'uneven pieces and falling apart paid for that .', ' cost - great service !', ' may make back the bar but will skip the restaurant .', ' old dude did pedicure .', ' who call get money back .', ' know should have sent this back and walk out .', 'she did not apologize anything .', ' just left this car wash and was very unsatisfied !', ' just received delivery order from them and essentially wasted money .', 'she chose great color that looks incredible with skin , too .', 'this place wonderful when you can actually sit outside .', ' highly recommend this salon and the wonderfully talented stylist , angel .', ' small yet they make you feel right home .', ' also love their convenient location right off scottsdale road .', 'also , the food great !', 'everyone always super friendly and helpful .', 'this place has some great food .', 'with that being said enjoyed the food .', 'myself and family / friends have been going them for years !', 'the salsa great , the fish top notch , the drinks just excellent .', 'the atmosphere was fun and the staff treats you well .', 'and the cleaning way over priced .', 'bottom line they over promise and under deliver .', 'the pizza offered without toppings and lacking flavor .', 'tasted really old could believe .', 'mustard beef ribs are must .', 'everything they serve there wonderful .', 'the people sonora were very good .', \"his offer `` free dessert '' was even more atrocious .\", ' also fun sit the bar .', 'and management does anything about .', ' went sit down and wait for order .', 'the crispy mango fish was very tasty .', 'there chips are , but their salsa really bland .', 'new owner heard - but know the details .', ' could give less stars would .', 'the beer was nice and cold !', 'the environment was cozy , the servers were friendly and top things .', 'this place has pissed off for the last time .', 'there are smiles and customer service .', 'seriously though have never shopped here .', ' did know was chain .', 'other than that , food here pretty gross .', ' massage with manicure pedicure .', 'loved the menu and the drinks .', 'this golf club one the best opinion .', ' went there busy holiday weekend and the service was extremely slow .', 'this was far the rudest person spoke with .', ' had the best pork belly here ever !', 'sometimes simple cut , other times more complicated color .', ' was great experience !', 'quality food fantastic .', ' not scottsdale club .', 'the guys here are sooo incredibly nice and helpful .', ' great museum visit .', 'pizza was cooked perfection and fast !', ' like this place much have actually inquired about purchasing franchise .', 'the restroom was mess .', 'had wait month get .', 'the drinks were affordable and good pour .', 'french toast plate was good , mom said , but eggs were cold .', 'great prices , great selection .', ' also like the fact that they have fresh squeezed orange juice .', ' treatment and medication help deal with condition .', 'even was insanely drunk could force this pizza down .', 'they also have lost sight what good deli food .', 'the girls are very attractive and really friendly , not pushy all .', ' got band geek back now !', 'extremely attentive and genuinely good person .', ' may just post pictures prove their shoddy work .', 'then proceeded tell how fix .', 'everything fresh and delicious !', ' happy and will definitely back for future services .', 'amazing food , great service .', 'best chicken parmesan have ever had .', 'however , the tech said nothing about this .', 'they were great , not too greasy but fluffy and light .', 'heck , even the pizza decent .', 'enjoyed the dolly lot .', 'the place was busy but the service was excellent !', ' far the best experience have ever had auto shop .', 'that rare find business .', 'all around great place grab drink two .', 'you have sit outside get the best experience from this place .', 'our experience with this business was positive .', 'the bbq salmon was good .', 'the office also failed even apologize about this whole horrific experience .', ' can honestly say glad will moving .', ' happy with decision here .', 'wide spectrum ages and races .', 'worst customer service have ever had .', 'this was the best have ever had !', 'you can not pay ever shop here !', ' was also curious about another product but straight walked off .', ' love the pork tacos .', 'all the food that had was excellent .', 'best green corn tamales around .', ' ordered the carne asada steak and was cooked perfectly !', 'this place terrible place live !', 'had dinner here last night and was great .', 'she kept our drinks full and gave great food recommendations .', 'nice people , prompt service and clearly expert .', 'not personalized warm all .', 'but probably sucks too !', 'there was sorry how did everything come out .', 'the wine was very average and the food was even less .', ' will definitely here again !', 'great place have some fresh and delicious donuts .', 'thanks for the perfect repair .', 'ever since joes has changed hands just gotten worse and worse .', ' bit the noisy side but the fresh food makes for .', ' looks like blended chicken put into the shape grilled pieces .', 'when the manager finally showed was rude and dismissive !', 'its also not very clean park .', 'this place where still the customer comes first and treated right .', ' was embarrassing for all involved , though think noticed .', 'fun and inexpensive way enjoy and relax your day .', 'the door would open all .', ' was not impressed , and would not recommend this place .', ' , yah does need replacing just yet .', ' gave another minutes before got and left .', 'when first came phx ... yes this sounded indian .', ' great little spot throw back few beers after rough day .', 'their cheese certain was the string variety .', 'she did the most amazing job .', 'fantastic place see show every seat great seat !', 'perhaps bread should offered charge .', ' got there , was seated pretty quickly , and then chose color .', 'liar , liar , pants fire .', 'not even real brown sauce .', 'she does say anything and just walks away .', 'the carne asada burrito awesome !', 'the queen bed was horrible !', 'the food too bad but the service terrible .', 'the grilled artichokes are wonderful !', 'the owner replied will half with you .', 'really enjoyed the beautiful range .', 'always takes way too long even you the only one there .', 'every time crave mexican food here !', 'the equipment old and looks dirty .', 'everything ever ordered here has been great tasting .', 'they can thank you for the low rating .', 'food always amazing matter what order .', 'the variety sushi rolls makes for good eating .', 'you get much for the price and the food fresh and delicious .', ' hot , cooked perfectly , and delicious !', 'these days the quality pretty lousy .', 'one favorite chinese place eat !', 'the only thing was offered was free dessert .', ' love their flavored coffee .', ' think terrible when employees act that way .', 'service was great and food was even better .', ' half day trip from phoenix area .', 'crab cakes , salt other flavor .', 'they are incredibly nice and accommodating .', ' one person would eat while everyone else was sitting and waiting for theirs .', 'this place reminds home !', 'their staff knowledgeable and informative .', 'but this place was not economical the expectation was different .', ' love their star design collection .', ' shows because saturday night there was long wait .', 'very crowded , difficult have chance actually have good time .', 'this pretty darn good pizza !', 'very good food and service !', 'let tell you , this place was far from busy !', 'just left and took off the bill .', 'great place hang out , grab meal and few brews !', ' much better option than the club scene .', 'would have rated lower could .', ' signed for their email and got coupon .', ' then placed our order with our extremely rude and apparently completely overwhelmed server .', ' left hungry and unsatisfied , never again .', ' was odd asked her she was joking ?', 'they not stock some the most common parts .', 'also were pleasantly surprised last time brought our dogs for shots .', 'what were you going charge when purchase dozen bagels ?', 'food was cold ( still frozen had the ribs .', ' believe how inconsiderate this pharmacy .', 'and the food simply not good the other locations .', 'the service was excellent and hostess was very nice and helpful .', ' will not revisit this course visitor with limited time play .', 'the most important thing course the food .', 'next dish was moo goo gai pan which the sauce the secret .', ' was well worth .', 'you can not judge people based appearance .', 'overall enjoy the place very much .', 'staff : very cute and friendly .', ' will not coming back .', 'you are not the only place town with decent pizza .', 'the menu very simple , healthy , and tasty .', 'everyone friendly and knowledgeable .', 'plus has amazing prices , how could you not ?', 'his egg sandwiches stink like feet and are slimy .', 'this place super yummy !', ' tasted like melted plastic and had the same tough consistency .', 'management longer cares about the golf experience .', 'when finally came out was bad .', 'excellent combination flavors , very unique .', ' emailed let them know but they apparently dont care .', 'the rest their food edible but their employees and service are horrible .', ' sad but not going back any more .', ' had horrible experience , and sadly would not come back .', 'this place has been making great sushi and sashimi for years .', 'the security guard comes upstairs and pounds our door demanding open .', ' should not have asked .', 'this place dirty and run down and the service stinks !', ' not recommend anyone this starbucks .', ' will not using this location again .', 'horrible job nails and toes .', 'great staff and wonderful food .', 'tzatziki sauce had way too much dill .', 'the evening started out slow .', ' just walked out , called the manager complain .', 'went back for adjustment , realized still incorrect .', 'grimaldi the most consistently amazing pizza place arizona .', ' jack and coke was seriously lacking .', 'service was wonderful match !', 'the bread was soggy and the dip was inedible .', 'but unfortunately the rude woman was the one checking out .', 'suzanne and her staff were excellent !', 'there are better happy hours and better beers all around mill !', 'casual atmosphere , upscale food .', 'the food was and very over priced for what you get .', 'definitely must you have time the phoenix area .', 'too bad was the expense the other customers .', 'very disappointed and would stay clear this place .', ' sushi , you are blah .', ' rate the experience followed .', 'the food , the service among the worst have encountered .', ' asked how long the wait would , she said she was unsure .', ' did get finished .', 'incredible , low price specials and the occasional groupon .', ' sit down and got some really slow and lazy service .', 'will bring all vehicles back for sure !', 'when was finally there was very disappointed .', 'furthermore , there sausage bacon the menu .', ' name few shows have seen here .', 'the fried rice was gross and there was shit load .', 'the mechanics are very amateur usual .', \" you are problem . ''\", ' stuck lease otherwise would move .', ' steak , shrimp and enchilada .', 'the best deals the store are these racks .', ' asked for the card refunded .', 'russ was well qualified tech .', 'the place has obviously gone downhill over the years .', 'great kebab dishes and good service .', 'perfect spot shop for gift !', 'after eating several other gyro place kings still has the best sauce .', ' husband got ruben sandwich loved .', 'also , could they not bring single pack cheese red peppers ?', 'ron still the greatest .', 'overall : lost business and recommendation for good local camera place .', 'omg carlsbad tavern awesome !', 'she was not happy being there .', 'the beef taco was good but nothing special .', ' will definitely return often !', 'decent selection meats and cheeses .', 'nothing but excellent customer service every time come here .', 'the service has always been wonderful .', ' did leave with anything that day .', 'second time , not good .', ' definitely back here again .', 'corn bread was also good !', 'now the food , drinks , and desserts are amazing .', ' was just cute and quaint !', ' was going let her thing further .', 'cooked perfection and very flavorful .', 'love this place and will keep coming back .', 'definitely place keep mind .', 'this adds the last little touch what was already amazing place .', 'that comes with the smaller location though .', 'all all pretty good !', 'also the crab wontons rule along with the spicy plum sauce .', 'this room that found also reeked smoke !', 'all had that satisfying grease flavor that washed down well with beers .', ' , that was one and only time ordering the benedict there .', 'the owner hoot and the facility very accommodating .', 'the garlic bread was bland and cold .', 'the green enchiladas were but not great .', ' basic , traditional , mexican food that homemade and tastes great .', 'also , the food that there great even buffet standards .', 'the two gentle men front are always kind .', ' sushi kee , how love thee !', 'thank you ladies for being awesome !', 'the crew was very friendly and accommodating .', 'the associates program longer option .', 'owner very rude man .', 'had returned one entree because too cold .', ' have had great experience every time from start finish .', ' always have great dish here eat .', 'and get the gyro sandwich every time and its the best .', 'the surly older waitress was huge bummer .', 'sit the bar and eat the small plates .', 'who knows might have been .', 'jennifer great and she really makes skin care affordable .', 'the only item was able eat was the soggy broccoli beef !', 'keep the amazing service !', ' fault for not looking more closely guess .', 'this location super busy and really could use double the staff .', 'came here get breakfast and that was the best decision yet .', 'university also almost bad living apache .', 'when she did answer him quickly enough hung her .', 'simply , there are far superior places for sushi .', ' expected service slow that morning , and was .', ' way overpriced ( compare what they serve !', ' was over fried and very hard .', ' had leave message , and they never called back .', 'when complained polite way was walked out the door .', 'needless say will not returning this place ever again .', 'this place still kicks ass .', 'lost long time customer !', 'really good service and food .', 'they loved the rock climb .', ' not really brown rice .', 'needless say contacted the store manager directly after leaving .', ' love the outside seating and the reverse happy hour incredibly affordable .', 'the chicken chimi had was absolutely fantastic !', 'but was very disappointed with what actually arrived .', 'went the sunday brunch celebrate our daughter college graduation .', 'the flourless chocolate cake was one the best desserts ever had .', 'pricy but the cheese pies are delicious !', 'this place offers solid , delicious take out .', ' very very family oriented and loved that too !', 'the employees always remember and dog , which very nice .', 'while the menu simple , what does offer truly first-rate .', 'ordered the huevos rancheros and was delicious !', 'not sure and care !', 'this one not the ball .', 'sadly will probably never able eat this place again .', ' soon they delivered was like ugh .', 'did even get response .', 'overall was miserable evening .', 'always fresh , fat , and delicious .', ' ordered garlic bread and fettuccine alfredo pasta with vegetables .', 'try anything the menu and you will glad you came !', ' acknowledged this and went back take care the bill .', 'management does not seem care .', 'friendly and welcoming with fun atmosphere and terrific food .', 'half head was over processed .', 'they charged for work not done , and parts not installed .', 'you see why once you get there .', 'just terrible all can say .', 'great service the staff .', ' was delicious never had anything like !', ' does not take that long cook sliders !', 'family owned little and mean little restaurant with absolutely amazing food .', 'the meatloaf ( when they have amazing .', ' did not return call either .', ' definitely recommend giving them try .', ' far not really impressed .', 'did they not have fountain machine site ?', 'the best part thanksgiving dinner far was sweet cakes pecan pie .', 'cleaned plate , perfect amount food .', 'friendly folks , delicious authentic bagels , tasty cream cheese .', ' had spanish omelet was huge and delicious .', 'had the normal gyro sandwich with their sauce ... very good .', 'seems pretty high compared every other thai place .', 'this cute little pizza , salad and pasta place east chandler great .', 'love the afternoon - tea the phoenician .', 'they are super friendly , very helpful , and amazingly quick !', 'also matt was super cool and helpful .', 'when picked the order was given another totally different price .', 'they added some new items the menu since last visit .', ' just too expensive for what you get .', 'pool tables and inexpensive drinks make this fun night out !', ' keep looking for different salon .', 'however , this experience went pretty smooth .', 'pathetic place , worst food .', ' spent time with best buds and enjoyed some excellent wine and food .', 'safeway has officially lost business sprouts , & fresh & easy .', ' sure they must get right some days but not this day .', ' here , you will love .', ' checked online , and the coupon site said certificate was good .', ' not here you are interested eating good food .', ' refused purchase any the pictures based quality .', ' love the cornbread appetizer .', ' did even eat .', ' shows that this restaurant has class .', ' ordered tires online , scheduled appointment for two days out .', 'the place small sure she could have figured out .', ' for the food , never had .', 'their front line much cheaper than petsmart !', 'but may not actually stock anyway .', 'thank you fiesta , lunch with you always good .', 'bartender made great dirty martini !', ' stood there shock , because never expected this .', 'lastly but not least , their brownie desert was ... meh .', 'salsa not hot good .', 'razz failed every occasion .', ' you sit the bar they have the best bartender town .', 'the food not that authentic .', 'think twice -- this place dump .', 'thank you amanda will back !', ' the long run , they did absolutely nothing for .', ' was very good !', ' stars what want give .', ' never had worse experience than this !', 'and the seafood enchiladas were great !', ' very thorough and genuinely cares for his customers .', 'their lunch special great value !', 'other than that great !', 'super good deals and very friendly staff .', 'customer service was great there .', ' courtesy and their food pathetic .', 'very good brunch , was impressed with selection and quality .', ' have not received such attitude toward customer before .', ' meal was very satisfying and flavorful .', 'tonight though ordered and the food was just good .', 'one favorite places for great steak .', 'nice club good layout the course was good above average shape .', ' was with coworker would walked out .', 'too bad too because they brew outstanding beer .', ' good solid food .', 'when arrived one was the desk .', ' regular drive-through customer this location .', 'what about the time wasted ?', ' would back there again .', 'giving extra star for customer service .', 'included this price was credit card fee and after midnight fee .', ' turn legs are burnt from the noodles and all over the floor .', ' just returned from delightful stay the camelback .', ' international delight .', ' % capacity most was the only one the pool .', 'there are much better places for breakfast .', 'this far cry from real new mexican cuisine .', 'sad what has happened this sandwich shop .', 'even their steamed veggies are amazing .', ' was both professional and courteous .', 'prices are tad high but worth .', 'now the food : not horrible , but below average .', ' reccomend the drunken dragon noodles ( for you spicy lovers ! )', ' will stay with you all day .', ' will spend our money elsewhere .', 'love cut and color and sage amazing !', 'they are spacious with modest decor .', 'the prices were the best and worth .', 'even the sides were great .', 'the staff made feel very welcome and comfortable .', 'the beer sauce lackluster best .', ' will never visit the salon again .', ' from the bay area and this was disappointment and over priced .', 'but let this story begin noon today .', 'she said she back and disappeared for few minutes .', 'and again , the food incredibly delicious !', 'nothing but happy thoughts from anyone have sent their way !', ' was very sick the night after .', 'horrible , horrible , horrible service !', 'totally will come back next time town .', ' and jeremy did great job !', 'service was little slow begin with .', ' was disgusted could not way for the rest the day .', 'definitely disappointed that could not use birthday gift !', 'always order the tzatziki sauce with everything you get !', 'you can come , spend any amount money and enjoy something amazing .', ' got car detailed here and looked amazing !', 'they make bad name for used car dealers .', 'this was first stop looking for wedding dress .', 'the happy hour crowd here can fun occasion .', ' located great part scottsdale and was really accommodating .', 'the food great here and very authentic .', 'very helpful , hospitable , knowledgeable , and informative .', ' daughter received great care .', ' told them forget did want wait .', 'actually , just keep walking .', 'but was disgusting and hot there .', 'all she did was give the run around and lied and everything .', 'very friendly staff and manager .', 'they also are the best price the area .', 'the art the alley behind cool too !', 'nothing that special about this place .', 'overcooked badly that was the consistency canned tuna fish .', 'love the vibe this place !', ' should have stuck with sun chinese dining .', 'the burgers were over cooked the point the meat was crunchy .', 'took home the most delicious white pizza since living here .', 'however , everyone else paid after their nails were completed .', 'great lunch specials and awesome staff .', 'the soup absolutely die for .', 'they are always doing good job .', 'the hummus ridiculously creamy and delicious .', 'produce very reasonably priced and great selection organic produce .', 'finally , the cheese crisp was tiny and was anything but crisp .', 'were irritating her something ?', ' not willing take the chance .', 'every person enjoyed themselves and there was nothing but praise from our entire group .', 'even the water tasted horrible .', 'the service was top notch and the food was bit heaven .', 'prices are just plain retail .', 'did feel like dealing with the restaurants closer asu .', 'the thai basil pasta came out lukewarm and spicy .', \" `` hot '' sub was cold and the meat was watery .\", ' was the manager fire that kid the spot .', ' great stop you want nice things steal .', 'well worth searching out this gem .', ' well , who cares ... right ?', 'the salsa was fantastic although next time will ask for hotter one .', ' can pricey , but really worth .', 'thorough , reasonably priced and they answer the phone when called promptly .', 'this resort has been scottsdale forever and truly knows service .', 'maria the manager horrible person .', 'she was getting pissed , and were .', 'service was just disappointing .', 'wendy has been know cheap with their drink refills for years .', 'the atmosphere the sugar bowl fun .', 'chicken fried chicken was dry but the green chili macaroni and cheese was good .', 'the service was great , food delicious , and the value impeccable .', 'the customer service this location great !', 'they tried take advantage because young .', 'just bother ordering anything you seated .', 'there definitely not enough room that part the venue .', 'love their food and their passion .', 'absolutely ridiculous stay away from this place .', ' actually can wait come back next year !', ' definitely will return the roaring fork !', 'love the mole sauce , chips are nice and thick .', 'the lunch and dinner items are very good well .', ' just told him that did want finance .', 'the sales people here are terrible .', 'nice menu , good prices , great service - for both dinner and breakfast !', ' guess even great restaurants have bad days .', 'the woman who works the deli horrible .', 'this the reason will never back .', ' recommend imports & american auto service everyone know .', 'always fun and friendly atmosphere .', 'tonight lost all respect for this company .', 'they tried real hard get come back but refused .', 'the color that she uses girlfriend hair looks great .', 'the food here delicious .', ' certainly back !', 'the building itself looks abandoned .', ' could give zero stars def would .', 'the beer bad , but the food was less than desirable .']\n"
          ]
        }
      ]
    },
    {
      "cell_type": "code",
      "source": [
        "df['Id'] = reviews_c"
      ],
      "metadata": {
        "id": "DIcbU11ptUJw"
      },
      "execution_count": 51,
      "outputs": []
    },
    {
      "cell_type": "code",
      "source": [
        "df"
      ],
      "metadata": {
        "colab": {
          "base_uri": "https://localhost:8080/",
          "height": 424
        },
        "id": "lFu8S3JxtYpo",
        "outputId": "be0c4c72-0413-4ed7-8827-69c56a140375"
      },
      "execution_count": 52,
      "outputs": [
        {
          "output_type": "execute_result",
          "data": {
            "text/plain": [
              "                                                    Id\n",
              "0     whole new experience and new flavors each tim...\n",
              "1                    disappointing from old favorite .\n",
              "2                 the most authentic thai the valley .\n",
              "3                   not sign lease with these people .\n",
              "4     was nervous and she made feel comfortable and...\n",
              "..                                                 ...\n",
              "995                          the food here delicious .\n",
              "996                                   certainly back !\n",
              "997              the building itself looks abandoned .\n",
              "998                  could give zero stars def would .\n",
              "999  the beer bad , but the food was less than desi...\n",
              "\n",
              "[1000 rows x 1 columns]"
            ],
            "text/html": [
              "\n",
              "  <div id=\"df-3fdcb54b-85b3-4050-912e-de5e525994eb\">\n",
              "    <div class=\"colab-df-container\">\n",
              "      <div>\n",
              "<style scoped>\n",
              "    .dataframe tbody tr th:only-of-type {\n",
              "        vertical-align: middle;\n",
              "    }\n",
              "\n",
              "    .dataframe tbody tr th {\n",
              "        vertical-align: top;\n",
              "    }\n",
              "\n",
              "    .dataframe thead th {\n",
              "        text-align: right;\n",
              "    }\n",
              "</style>\n",
              "<table border=\"1\" class=\"dataframe\">\n",
              "  <thead>\n",
              "    <tr style=\"text-align: right;\">\n",
              "      <th></th>\n",
              "      <th>Id</th>\n",
              "    </tr>\n",
              "  </thead>\n",
              "  <tbody>\n",
              "    <tr>\n",
              "      <th>0</th>\n",
              "      <td>whole new experience and new flavors each tim...</td>\n",
              "    </tr>\n",
              "    <tr>\n",
              "      <th>1</th>\n",
              "      <td>disappointing from old favorite .</td>\n",
              "    </tr>\n",
              "    <tr>\n",
              "      <th>2</th>\n",
              "      <td>the most authentic thai the valley .</td>\n",
              "    </tr>\n",
              "    <tr>\n",
              "      <th>3</th>\n",
              "      <td>not sign lease with these people .</td>\n",
              "    </tr>\n",
              "    <tr>\n",
              "      <th>4</th>\n",
              "      <td>was nervous and she made feel comfortable and...</td>\n",
              "    </tr>\n",
              "    <tr>\n",
              "      <th>...</th>\n",
              "      <td>...</td>\n",
              "    </tr>\n",
              "    <tr>\n",
              "      <th>995</th>\n",
              "      <td>the food here delicious .</td>\n",
              "    </tr>\n",
              "    <tr>\n",
              "      <th>996</th>\n",
              "      <td>certainly back !</td>\n",
              "    </tr>\n",
              "    <tr>\n",
              "      <th>997</th>\n",
              "      <td>the building itself looks abandoned .</td>\n",
              "    </tr>\n",
              "    <tr>\n",
              "      <th>998</th>\n",
              "      <td>could give zero stars def would .</td>\n",
              "    </tr>\n",
              "    <tr>\n",
              "      <th>999</th>\n",
              "      <td>the beer bad , but the food was less than desi...</td>\n",
              "    </tr>\n",
              "  </tbody>\n",
              "</table>\n",
              "<p>1000 rows × 1 columns</p>\n",
              "</div>\n",
              "      <button class=\"colab-df-convert\" onclick=\"convertToInteractive('df-3fdcb54b-85b3-4050-912e-de5e525994eb')\"\n",
              "              title=\"Convert this dataframe to an interactive table.\"\n",
              "              style=\"display:none;\">\n",
              "        \n",
              "  <svg xmlns=\"http://www.w3.org/2000/svg\" height=\"24px\"viewBox=\"0 0 24 24\"\n",
              "       width=\"24px\">\n",
              "    <path d=\"M0 0h24v24H0V0z\" fill=\"none\"/>\n",
              "    <path d=\"M18.56 5.44l.94 2.06.94-2.06 2.06-.94-2.06-.94-.94-2.06-.94 2.06-2.06.94zm-11 1L8.5 8.5l.94-2.06 2.06-.94-2.06-.94L8.5 2.5l-.94 2.06-2.06.94zm10 10l.94 2.06.94-2.06 2.06-.94-2.06-.94-.94-2.06-.94 2.06-2.06.94z\"/><path d=\"M17.41 7.96l-1.37-1.37c-.4-.4-.92-.59-1.43-.59-.52 0-1.04.2-1.43.59L10.3 9.45l-7.72 7.72c-.78.78-.78 2.05 0 2.83L4 21.41c.39.39.9.59 1.41.59.51 0 1.02-.2 1.41-.59l7.78-7.78 2.81-2.81c.8-.78.8-2.07 0-2.86zM5.41 20L4 18.59l7.72-7.72 1.47 1.35L5.41 20z\"/>\n",
              "  </svg>\n",
              "      </button>\n",
              "      \n",
              "  <style>\n",
              "    .colab-df-container {\n",
              "      display:flex;\n",
              "      flex-wrap:wrap;\n",
              "      gap: 12px;\n",
              "    }\n",
              "\n",
              "    .colab-df-convert {\n",
              "      background-color: #E8F0FE;\n",
              "      border: none;\n",
              "      border-radius: 50%;\n",
              "      cursor: pointer;\n",
              "      display: none;\n",
              "      fill: #1967D2;\n",
              "      height: 32px;\n",
              "      padding: 0 0 0 0;\n",
              "      width: 32px;\n",
              "    }\n",
              "\n",
              "    .colab-df-convert:hover {\n",
              "      background-color: #E2EBFA;\n",
              "      box-shadow: 0px 1px 2px rgba(60, 64, 67, 0.3), 0px 1px 3px 1px rgba(60, 64, 67, 0.15);\n",
              "      fill: #174EA6;\n",
              "    }\n",
              "\n",
              "    [theme=dark] .colab-df-convert {\n",
              "      background-color: #3B4455;\n",
              "      fill: #D2E3FC;\n",
              "    }\n",
              "\n",
              "    [theme=dark] .colab-df-convert:hover {\n",
              "      background-color: #434B5C;\n",
              "      box-shadow: 0px 1px 3px 1px rgba(0, 0, 0, 0.15);\n",
              "      filter: drop-shadow(0px 1px 2px rgba(0, 0, 0, 0.3));\n",
              "      fill: #FFFFFF;\n",
              "    }\n",
              "  </style>\n",
              "\n",
              "      <script>\n",
              "        const buttonEl =\n",
              "          document.querySelector('#df-3fdcb54b-85b3-4050-912e-de5e525994eb button.colab-df-convert');\n",
              "        buttonEl.style.display =\n",
              "          google.colab.kernel.accessAllowed ? 'block' : 'none';\n",
              "\n",
              "        async function convertToInteractive(key) {\n",
              "          const element = document.querySelector('#df-3fdcb54b-85b3-4050-912e-de5e525994eb');\n",
              "          const dataTable =\n",
              "            await google.colab.kernel.invokeFunction('convertToInteractive',\n",
              "                                                     [key], {});\n",
              "          if (!dataTable) return;\n",
              "\n",
              "          const docLinkHtml = 'Like what you see? Visit the ' +\n",
              "            '<a target=\"_blank\" href=https://colab.research.google.com/notebooks/data_table.ipynb>data table notebook</a>'\n",
              "            + ' to learn more about interactive tables.';\n",
              "          element.innerHTML = '';\n",
              "          dataTable['output_type'] = 'display_data';\n",
              "          await google.colab.output.renderOutput(dataTable, element);\n",
              "          const docLink = document.createElement('div');\n",
              "          docLink.innerHTML = docLinkHtml;\n",
              "          element.appendChild(docLink);\n",
              "        }\n",
              "      </script>\n",
              "    </div>\n",
              "  </div>\n",
              "  "
            ]
          },
          "metadata": {},
          "execution_count": 52
        }
      ]
    },
    {
      "cell_type": "code",
      "source": [
        "df.to_csv(\"test_no_label_c.csv\", index = False)"
      ],
      "metadata": {
        "id": "P-4_4s6VtnNx"
      },
      "execution_count": 53,
      "outputs": []
    }
  ],
  "metadata": {
    "accelerator": "GPU",
    "colab": {
      "provenance": []
    },
    "gpuClass": "premium",
    "kernelspec": {
      "display_name": "Python 3",
      "name": "python3"
    },
    "language_info": {
      "name": "python"
    }
  },
  "nbformat": 4,
  "nbformat_minor": 0
}